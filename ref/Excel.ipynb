{
 "cells": [
  {
   "cell_type": "markdown",
   "id": "generic-governor",
   "metadata": {},
   "source": [
    "# 파이썬으로 엑셀 다루기"
   ]
  },
  {
   "cell_type": "markdown",
   "id": "fiscal-conducting",
   "metadata": {},
   "source": [
    "엑셀을 다루기위한 OpenPyXL은 파이썬에 내장된 모듈이 아니기 때문에, 처음엔 모듈이 없다고 뜰 것이다."
   ]
  },
  {
   "cell_type": "code",
   "execution_count": 6,
   "id": "regulation-masters",
   "metadata": {},
   "outputs": [
    {
     "ename": "ModuleNotFoundError",
     "evalue": "No module named 'openpyxl'",
     "output_type": "error",
     "traceback": [
      "\u001b[1;31m---------------------------------------------------------------------------\u001b[0m",
      "\u001b[1;31mModuleNotFoundError\u001b[0m                       Traceback (most recent call last)",
      "\u001b[1;32m<ipython-input-6-4beb9837b393>\u001b[0m in \u001b[0;36m<module>\u001b[1;34m\u001b[0m\n\u001b[1;32m----> 1\u001b[1;33m \u001b[1;32mimport\u001b[0m \u001b[0mopenpyxl\u001b[0m \u001b[1;32mas\u001b[0m \u001b[0mxl\u001b[0m\u001b[1;33m\u001b[0m\u001b[1;33m\u001b[0m\u001b[0m\n\u001b[0m",
      "\u001b[1;31mModuleNotFoundError\u001b[0m: No module named 'openpyxl'"
     ]
    }
   ],
   "source": [
    "import openpyxl as xl"
   ]
  },
  {
   "cell_type": "markdown",
   "id": "occasional-nature",
   "metadata": {},
   "source": [
    "그래서 `pip`를 이용해서 openpyxl 모듈을 설치하자\n",
    "```\n",
    "pip install openpyxl\n",
    "```\n",
    "관련 문서 : https://openpyxl.readthedocs.io/en/stable"
   ]
  },
  {
   "cell_type": "code",
   "execution_count": 11,
   "id": "personal-superintendent",
   "metadata": {},
   "outputs": [],
   "source": [
    "import openpyxl as xl"
   ]
  },
  {
   "cell_type": "markdown",
   "id": "transsexual-karaoke",
   "metadata": {},
   "source": [
    "## - 파일 열기"
   ]
  },
  {
   "cell_type": "code",
   "execution_count": 125,
   "id": "collective-eating",
   "metadata": {},
   "outputs": [],
   "source": [
    "wb = xl.load_workbook(\"./asset/ExcelA.xlsx\")"
   ]
  },
  {
   "cell_type": "markdown",
   "id": "convenient-netherlands",
   "metadata": {},
   "source": [
    "## - 시트 확인하기"
   ]
  },
  {
   "cell_type": "code",
   "execution_count": 126,
   "id": "tender-excerpt",
   "metadata": {},
   "outputs": [
    {
     "data": {
      "text/plain": [
       "['Sheet1']"
      ]
     },
     "execution_count": 126,
     "metadata": {},
     "output_type": "execute_result"
    }
   ],
   "source": [
    "wb.sheetnames"
   ]
  },
  {
   "cell_type": "markdown",
   "id": "clean-cement",
   "metadata": {},
   "source": [
    "## - 시트 안의 데이터 확인하기"
   ]
  },
  {
   "cell_type": "code",
   "execution_count": 127,
   "id": "gross-amplifier",
   "metadata": {},
   "outputs": [],
   "source": [
    "sheet = wb['Sheet1']"
   ]
  },
  {
   "cell_type": "code",
   "execution_count": 128,
   "id": "stock-ethernet",
   "metadata": {},
   "outputs": [
    {
     "data": {
      "text/plain": [
       "'가격'"
      ]
     },
     "execution_count": 128,
     "metadata": {},
     "output_type": "execute_result"
    }
   ],
   "source": [
    "sheet.cell(row=1, column=2).value"
   ]
  },
  {
   "cell_type": "code",
   "execution_count": 129,
   "id": "egyptian-devices",
   "metadata": {},
   "outputs": [
    {
     "data": {
      "text/plain": [
       "'가격'"
      ]
     },
     "execution_count": 129,
     "metadata": {},
     "output_type": "execute_result"
    }
   ],
   "source": [
    "sheet[\"B1\"].value"
   ]
  },
  {
   "cell_type": "markdown",
   "id": "comic-rwanda",
   "metadata": {},
   "source": [
    "### * 범위를 정해 엑셀 데이터 가져오기"
   ]
  },
  {
   "cell_type": "code",
   "execution_count": 130,
   "id": "infectious-antibody",
   "metadata": {},
   "outputs": [
    {
     "name": "stdout",
     "output_type": "stream",
     "text": [
      "(<Cell 'Sheet1'.A1>, <Cell 'Sheet1'.B1>)\n",
      "(<Cell 'Sheet1'.A2>, <Cell 'Sheet1'.B2>)\n",
      "(<Cell 'Sheet1'.A3>, <Cell 'Sheet1'.B3>)\n",
      "(<Cell 'Sheet1'.A4>, <Cell 'Sheet1'.B4>)\n",
      "(<Cell 'Sheet1'.A5>, <Cell 'Sheet1'.B5>)\n",
      "(<Cell 'Sheet1'.A6>, <Cell 'Sheet1'.B6>)\n"
     ]
    }
   ],
   "source": [
    "for data in sheet[\"A1\":\"B6\"]:\n",
    "    print(data)"
   ]
  },
  {
   "cell_type": "code",
   "execution_count": 131,
   "id": "grave-syndrome",
   "metadata": {},
   "outputs": [
    {
     "name": "stdout",
     "output_type": "stream",
     "text": [
      "메뉴\n",
      "돈코츠\n",
      "라면\n",
      "냉면\n",
      "탕수육\n",
      "짜장면\n"
     ]
    }
   ],
   "source": [
    "for data in sheet[\"A1\":\"B6\"]:\n",
    "    print(data[0].value)"
   ]
  },
  {
   "cell_type": "code",
   "execution_count": 132,
   "id": "dirty-testing",
   "metadata": {},
   "outputs": [
    {
     "name": "stdout",
     "output_type": "stream",
     "text": [
      "메뉴\n",
      "가격\n",
      "돈코츠\n",
      "10000\n",
      "라면\n",
      "3500\n",
      "냉면\n",
      "7000\n",
      "탕수육\n",
      "13500\n",
      "짜장면\n",
      "8000\n"
     ]
    }
   ],
   "source": [
    "for data in sheet[\"A1\":\"B6\"]:\n",
    "    for cell in data:\n",
    "        print(cell.value)"
   ]
  },
  {
   "cell_type": "code",
   "execution_count": 133,
   "id": "interim-walker",
   "metadata": {},
   "outputs": [
    {
     "name": "stdout",
     "output_type": "stream",
     "text": [
      "메뉴 가격\n",
      "돈코츠 10000\n",
      "라면 3500\n",
      "냉면 7000\n",
      "탕수육 13500\n",
      "짜장면 8000\n"
     ]
    }
   ],
   "source": [
    "for data in sheet[\"A1\":\"B6\"]:\n",
    "    print(data[0].value, data[1].value)"
   ]
  },
  {
   "cell_type": "code",
   "execution_count": 134,
   "id": "promising-print",
   "metadata": {},
   "outputs": [
    {
     "data": {
      "text/plain": [
       "[('메뉴', '가격'),\n",
       " ('돈코츠', 10000),\n",
       " ('라면', 3500),\n",
       " ('냉면', 7000),\n",
       " ('탕수육', 13500),\n",
       " ('짜장면', 8000)]"
      ]
     },
     "execution_count": 134,
     "metadata": {},
     "output_type": "execute_result"
    }
   ],
   "source": [
    "[(data[0].value, data[1].value) for data in sheet[\"A1\":\"B6\"]]"
   ]
  },
  {
   "cell_type": "markdown",
   "id": "revolutionary-distribution",
   "metadata": {},
   "source": [
    "## - 엑셀 쓰기"
   ]
  },
  {
   "cell_type": "code",
   "execution_count": 136,
   "id": "breeding-lending",
   "metadata": {},
   "outputs": [],
   "source": [
    "sheet[\"A1\"].value = \"MENU\""
   ]
  },
  {
   "cell_type": "markdown",
   "id": "seventh-hampshire",
   "metadata": {},
   "source": [
    "## - 엑셀 저장"
   ]
  },
  {
   "cell_type": "code",
   "execution_count": 141,
   "id": "excessive-theology",
   "metadata": {},
   "outputs": [],
   "source": [
    "wb.save(\"./asset/ExcelA.xlsx\")"
   ]
  },
  {
   "cell_type": "markdown",
   "id": "printable-timothy",
   "metadata": {},
   "source": [
    "## - 파일 닫기"
   ]
  },
  {
   "cell_type": "code",
   "execution_count": 139,
   "id": "varying-project",
   "metadata": {},
   "outputs": [],
   "source": [
    "wb.close()"
   ]
  },
  {
   "cell_type": "markdown",
   "id": "systematic-evans",
   "metadata": {},
   "source": [
    "<hr>"
   ]
  },
  {
   "cell_type": "markdown",
   "id": "brown-inclusion",
   "metadata": {},
   "source": [
    "There is no need to create a file on the filesystem to get started with openpyxl. Just import the Workbook class and start work:"
   ]
  },
  {
   "cell_type": "code",
   "execution_count": 97,
   "id": "premium-stroke",
   "metadata": {
    "tags": []
   },
   "outputs": [],
   "source": [
    "workbook = xl.Workbook()"
   ]
  },
  {
   "cell_type": "markdown",
   "id": "color-composer",
   "metadata": {},
   "source": [
    "A workbook is always created with at least one worksheet. You can get it by using the `Workbook.active` property:"
   ]
  },
  {
   "cell_type": "code",
   "execution_count": 102,
   "id": "figured-chemistry",
   "metadata": {},
   "outputs": [],
   "source": [
    "workbook_sheet = workbook.active"
   ]
  },
  {
   "cell_type": "code",
   "execution_count": 103,
   "id": "abstract-state",
   "metadata": {},
   "outputs": [],
   "source": [
    "workbook_sheet.title = \"sample\""
   ]
  },
  {
   "cell_type": "code",
   "execution_count": 104,
   "id": "generic-connectivity",
   "metadata": {},
   "outputs": [
    {
     "name": "stdout",
     "output_type": "stream",
     "text": [
      "['sample']\n"
     ]
    }
   ],
   "source": [
    "print(workbook.sheetnames)"
   ]
  },
  {
   "cell_type": "code",
   "execution_count": 105,
   "id": "reasonable-scott",
   "metadata": {},
   "outputs": [],
   "source": [
    "dummy = [('메뉴', '가격'),\n",
    " ('돈코츠', 10000),\n",
    " ('라면', 3500),\n",
    " ('냉면', 7000),\n",
    " ('탕수육', 13500),\n",
    " ('짜장면', 8000)]"
   ]
  },
  {
   "cell_type": "code",
   "execution_count": 106,
   "id": "compatible-california",
   "metadata": {},
   "outputs": [
    {
     "name": "stdout",
     "output_type": "stream",
     "text": [
      "\n",
      "메뉴 가격 \n",
      "돈코츠 10000 \n",
      "라면 3500 \n",
      "냉면 7000 \n",
      "탕수육 13500 \n",
      "짜장면 8000 "
     ]
    }
   ],
   "source": [
    "for i in range(len(dummy)):\n",
    "    print()\n",
    "    for k in range(2):\n",
    "        print(dummy[i][k], end = \" \")"
   ]
  },
  {
   "cell_type": "code",
   "execution_count": 115,
   "id": "utility-entrance",
   "metadata": {
    "tags": []
   },
   "outputs": [
    {
     "name": "stdout",
     "output_type": "stream",
     "text": [
      "\n",
      "\n"
     ]
    }
   ],
   "source": [
    "for col in range(2):\n",
    "    print()\n",
    "    for row in range(len(dummy)):\n",
    "        row_num = row + 1\n",
    "        col_num = col + 1\n",
    "        workbook_sheet.cell(row=row_num, column=col_num).value = dummy[row][col]"
   ]
  },
  {
   "cell_type": "code",
   "execution_count": 116,
   "id": "attempted-defense",
   "metadata": {},
   "outputs": [
    {
     "name": "stdout",
     "output_type": "stream",
     "text": [
      "메뉴 가격\n",
      "돈코츠 10000\n",
      "라면 3500\n",
      "냉면 7000\n",
      "탕수육 13500\n",
      "짜장면 8000\n"
     ]
    }
   ],
   "source": [
    "for data in sheet[\"A1\":\"B6\"]:\n",
    "    print(data[0].value, data[1].value)"
   ]
  },
  {
   "cell_type": "code",
   "execution_count": 119,
   "id": "eight-genesis",
   "metadata": {},
   "outputs": [],
   "source": [
    "workbook.save(filename=\"./asset/excel_sample_a.xlsx\")"
   ]
  },
  {
   "cell_type": "code",
   "execution_count": 123,
   "id": "rising-sleep",
   "metadata": {},
   "outputs": [],
   "source": [
    "workbook.close()"
   ]
  }
 ],
 "metadata": {
  "kernelspec": {
   "display_name": "Python 3",
   "language": "python",
   "name": "python3"
  },
  "language_info": {
   "codemirror_mode": {
    "name": "ipython",
    "version": 3
   },
   "file_extension": ".py",
   "mimetype": "text/x-python",
   "name": "python",
   "nbconvert_exporter": "python",
   "pygments_lexer": "ipython3",
   "version": "3.9.4"
  }
 },
 "nbformat": 4,
 "nbformat_minor": 5
}
