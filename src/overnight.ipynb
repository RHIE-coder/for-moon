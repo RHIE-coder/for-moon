{
 "cells": [
  {
   "cell_type": "markdown",
   "id": "89a73b96-717d-4e86-8c35-245edd5d4249",
   "metadata": {
    "jp-MarkdownHeadingCollapsed": true,
    "tags": []
   },
   "source": [
    "<h1 align=\"center\">KRX Big-Data Contest</h1>\n",
    "\n",
    "# [ 1 ] Overview\n",
    "\n",
    "### 1. Sources\n",
    "\n",
    "#### - Basic\n",
    "\n",
    " - `[유가증권]일별 시세정보(주문번호-1300-27)` : 2020년 1분기 주식 정보 -> _CSV 형식_\n",
    " - `[유가증권]일별 시세정보(주문번호-1300-30)` : 2021년 1분기 주식 정보 -> _CSV 형식_\n",
    " - `[유가증권]일별 시세정보(주문번호-1300-33)` : 2022년 1분기 주식 정보 -> _CSV 형식_\n",
    "\n",
    "#### - Extension ( https://kr.investing.com )\n",
    "\n",
    " - `환율 추이` : 2020년, 2021년, 2022년 1분기 -> _CSV 형식_\n",
    " - `미국 3년 채권수익률` : 2020년, 2021년, 2022년 1분기 -> _CSV 형식_\n",
    "\n",
    "```txt\n",
    "https://kr.investing.com/robots.txt\n",
    "크롤링 정책상 Disallow를 피함\n",
    "```\n",
    "\n",
    "\n",
    "<br><br><br>\n",
    "\n",
    "### 2. Targets from `.CSV` files (Input)\n",
    "\n",
    "| 항목 명 | 항목 영어명 | 모델 학습값 여부 |\n",
    "|:---:|:---:|:---:|\n",
    "|`거래일자`|TRD_DD|Y|\n",
    "|`종목코드`|ISU_CD|N|\n",
    "|`종목명`|ISU_NM|N|\n",
    "|`시가`|OPNPRC|Y|\n",
    "|`고가`|HGPRC|Y|\n",
    "|`저가`|LWPRC|Y|\n",
    "|`종가`|CLSPRC|Y|\n",
    "|(누적)`거래량`|ACC_TRDVOL|Y|\n",
    "|`업종구분`(지수업종코드)|IDX_IND_CD|N|\n",
    "|`PER`(주가수익률)|PER|Y|\n",
    "|`상장일`|LIST_DD|N|\n",
    "|`시가총액`|MKTCAP|Y|\n",
    "\n",
    "<!-- <br><br><br>\n",
    "\n",
    "### 3. Results (Output)\n",
    "\n",
    "| Property | Description |\n",
    "|:---:|:---:|\n",
    "|TRD_DD|`거래일자`|\n",
    "|ISU_CD|`종목코드`|\n",
    "|ISU_NM|`종목명`|\n",
    "|OPNPRC|`시가`|\n",
    "|HGPRC|`고가`|\n",
    "|LWPRC|`저가`|\n",
    "|CLSPRC|`종가`|\n",
    "|ACC_TRDVOL|(누적)`거래량`|\n",
    "|IDX_IND_CD|`업종구분`(지수업종코드)|\n",
    "|PER|`PER`(주가수익률)|\n",
    "|LIST_DD|`상장일`|\n",
    "|MKTCAP|`시가총액`|\n",
    " -->\n",
    "<br><br><br><hr>"
   ]
  },
  {
   "cell_type": "markdown",
   "id": "7750c953-cd8a-42c5-b05d-8a4d576e1a53",
   "metadata": {},
   "source": [
    "# [ 2 ] Importing Modules"
   ]
  },
  {
   "cell_type": "code",
   "execution_count": 1,
   "id": "ac660437-d6e4-401c-94a0-1cf4eafd5ca2",
   "metadata": {},
   "outputs": [],
   "source": [
    "# Data Handlers\n",
    "import numpy as np\n",
    "import pandas as pd\n",
    "import matplotlib.pyplot as plt\n",
    "from IPython.display import display\n",
    "\n",
    "# Code Libraries\n",
    "import os\n",
    "import copy\n",
    "import abc"
   ]
  },
  {
   "cell_type": "markdown",
   "id": "5ef2fce0-195f-4d48-b689-a23f7715cd91",
   "metadata": {},
   "source": [
    "<br><br><br>"
   ]
  },
  {
   "cell_type": "markdown",
   "id": "aeb94273-a068-4652-9102-6adf4cd93a94",
   "metadata": {},
   "source": [
    "# [ 3 ] Declarations"
   ]
  },
  {
   "cell_type": "code",
   "execution_count": 2,
   "id": "6fa6e43b-a3b9-4935-94f9-1e9bd308f998",
   "metadata": {},
   "outputs": [],
   "source": [
    "############################################################################################################\n",
    "\n",
    "import copy\n",
    "\n",
    "class Utils:\n",
    "    \"\"\"\n",
    "    데이터 처리를 위해 유용한 기능들을 정의한 클래스입니다.\n",
    "    \"\"\"\n",
    "    @staticmethod\n",
    "    def generate_int_range(start:int, end:int)->iter:\n",
    "        \"\"\"\n",
    "        start와 end 사이의 정수들을 반환하는 Generator입니다.\n",
    "        \"\"\"\n",
    "        if(start >= end):\n",
    "            raise SyntaxError(f\"{start} must be larger than {end}\")\n",
    "        while start <= end:\n",
    "            yield start\n",
    "            start += 1\n",
    "            \n",
    "    @staticmethod\n",
    "    def clone(target:object)->object:\n",
    "        \"\"\"\n",
    "        깊은 복사를 한 인스턴스를 반환합니다.\n",
    "        \"\"\"\n",
    "        return copy.deepcopy(target)\n",
    "    \n",
    "############################################################################################################\n",
    "\n",
    "import pandas\n",
    "\n",
    "class PandasBasedCSVHandler:\n",
    "    \"\"\"\n",
    "    Pandas 모듈을 기반으로 CSV 파일 데이터를 다루는 클래스입니다.\n",
    "    \"\"\"\n",
    "    def __init__(self, handler:pandas):\n",
    "        self.__handler = handler\n",
    "        self.__data = dict()\n",
    "        \n",
    "    @property\n",
    "    def handler(self)->pandas:\n",
    "        \"\"\"\n",
    "        주입받은 Pandas 객체를 반환합니다.\n",
    "        이미 생성된 handler 인스턴스는 대체될 수 없고 반환만 가능합니다.\n",
    "        \"\"\"\n",
    "        return self.__handler\n",
    "    \n",
    "    def take_data_from_CSV_file(self, *, data_id:object, filepath:str, encoding:str=\"utf-8\")->object:\n",
    "        \"\"\"\n",
    "        불러올 CSV 파일의 경로를 받아 데이터를 가져오고\n",
    "        데이터를 식별할 data_id를 받습니다.\n",
    "        Argument를 반드시 키워드로 명시하여 Parameter에 전달해야 합니다.\n",
    "        \"\"\"\n",
    "        self.__data[data_id] = self.__handler.read_csv(filepath, encoding=encoding)\n",
    "            \n",
    "        return self\n",
    "    \n",
    "    def get_CSV_data(self)->dict:\n",
    "        \"\"\"\n",
    "        다음 Dictionary 자료구조를 반환합니다.\n",
    "        key의 타입(자료형)은 정수형으로 의도되었지만 어떤 타입이 들어올지는 자유입니다.\n",
    "        value는 Pandas 타입의 객체입니다.\n",
    "        \"\"\"\n",
    "        return self.__data\n",
    "    \n",
    "    def validate(self, target_properties:list)->object:\n",
    "        \"\"\"\n",
    "        모든 Pandas 데이터가 target_properties에 명시된 속성을 가지고 있는지 확인합니다.\n",
    "        만일, 속성이 매칭되지 않으면 예외가 발생할 것입니다.\n",
    "        모든 과정이 성공하면 True를 반환합니다.\n",
    "        \"\"\"\n",
    "        for data_key, _ in self.__data.items():\n",
    "            self.__data[data_key][target_properties]\n",
    "        return True\n",
    "\n",
    "############################################################################################################\n",
    "import datetime\n",
    "import requests\n",
    "import json\n",
    "from pandas import json_normalize\n",
    "\n",
    "class KRXStockCrawler:\n",
    "    \"\"\"\n",
    "    \"\"\"\n",
    "    def __init__(self):\n",
    "        self.__url = \"http://data.krx.co.kr/comm/bldAttendant/getJsonData.cmd\"\n",
    "        self.__headers = \"User-Agent: Mozilla/5.0 (Windows NT 10.0; Win64; x64) AppleWebKit/537.36 (KHTML, like Gecko) Chrome/103.0.0.0 Safari/537.36\"\n",
    "        self.__base_data = {\n",
    "            \"bld\": \"dbms/MDC/STAT/standard/MDCSTAT01701\",\n",
    "            \"locale\": \"ko_KR\",\n",
    "            \"param1isuCd_finder_stkisu0_1\": \"ALL\",\n",
    "            \"share\": 1,\n",
    "            \"money\": 1,\n",
    "            \"csvxls_isNo\": \"false\"\n",
    "        }\n",
    "        \n",
    "    def target(self, code:str, start_date:int, end_date:int)->dict:\n",
    "        \"\"\"\n",
    "        \"\"\"\n",
    "        query_data = {\n",
    "            \"isuCd\": code,\n",
    "            \"strtDd\": start_date,\n",
    "            \"endDd\": end_date,\n",
    "        }\n",
    "        res = requests.post('http://data.krx.co.kr/comm/bldAttendant/getJsonData.cmd', data=dict(**self.__base_data,**query_data))\n",
    "        dict_json = json.loads(res.text)\n",
    "        return dict_json['output']\n",
    "    \n",
    "############################################################################################################\n",
    "class KRXStockData:\n",
    "    \"\"\"\n",
    "    \n",
    "    \"\"\"\n",
    "    pass\n",
    "    \n",
    "\n",
    "############################################################################################################\n",
    "\n",
    "class DataVisualization:\n",
    "    pass\n",
    "\n",
    "############################################################################################################"
   ]
  },
  {
   "cell_type": "markdown",
   "id": "4ba3caf3-0371-4c9c-8895-a88d10c37196",
   "metadata": {},
   "source": [
    "<br><br><br>"
   ]
  },
  {
   "cell_type": "markdown",
   "id": "6a1ea0e7-7fcc-4441-9bf3-275d66e26f6b",
   "metadata": {
    "tags": []
   },
   "source": [
    "# [ 4 ] Stock Predictions"
   ]
  },
  {
   "cell_type": "code",
   "execution_count": 26,
   "id": "f79dcef9-a50e-4792-9a12-375a5eee8fdc",
   "metadata": {},
   "outputs": [],
   "source": [
    "# \"종목코드\"를 기준으로 각 CSV 데이터들을 식별하는 용도의 자료구조\n",
    "index_properties:list = dict()"
   ]
  },
  {
   "cell_type": "markdown",
   "id": "a7398b69-82b0-419b-84ca-8e74a711c686",
   "metadata": {
    "tags": []
   },
   "source": [
    "## 01-A. 데이터 수집 및 전처리 단계: `KRX에서 기본적으로 제공받은 CSV`"
   ]
  },
  {
   "cell_type": "code",
   "execution_count": 27,
   "id": "74120d4e-fe0b-4f4e-bffe-d6ff70253587",
   "metadata": {
    "tags": []
   },
   "outputs": [],
   "source": [
    "# class<PandasBasedCSVHandler> 인스턴스 생성\n",
    "csv_handler_krx:PandasBasedCSVHandler = PandasBasedCSVHandler(pd)"
   ]
  },
  {
   "cell_type": "markdown",
   "id": "70eff037-e926-4bcb-a339-1fe82b9d40a8",
   "metadata": {},
   "source": [
    "### (1) 데이터 경로 및 이름 설정"
   ]
  },
  {
   "cell_type": "code",
   "execution_count": 28,
   "id": "cb6deb88-1cc0-4d98-add9-b35988632141",
   "metadata": {
    "tags": []
   },
   "outputs": [],
   "source": [
    "# CSV 파일 루트 경로\n",
    "root_dir:str = os.path.join(\"..\", \"data\")\n",
    "\n",
    "# CSV 파일 전체 경로 및 이름 형식\n",
    "filepath_form:str = os.path.join(root_dir, \"{0}\",\"{0}_{1}.csv\")\n",
    "\n",
    "# 각 CSV 파일들을 가져오기 위한 프로파일 list<dict[]>\n",
    "csv_file_profiles : list = [\n",
    "    {\n",
    "        \"name\" : \"[유가증권]일별 시세정보(주문번호-1300-27)\",\n",
    "        \"date_range\" : [202001, 202003]\n",
    "    },\n",
    "    {\n",
    "        \"name\" : \"[유가증권]일별 시세정보(주문번호-1300-30)\",\n",
    "        \"date_range\" : [202101, 202103]\n",
    "    },\n",
    "    {\n",
    "        \"name\" : \"[유가증권]일별 시세정보(주문번호-1300-33)\",\n",
    "        \"date_range\" : [202201, 202203]\n",
    "    }\n",
    "]\n",
    "\n",
    "\n",
    "# 데이터 전처리에 필요한 속성들\n",
    "selected_properties = [\"거래일자\",\"종목코드\",\"종목명\", \"시가\", \"고가\", \"저가\", \"종가\", \"거래량\", \"업종구분\", \"PER\", \"상장일\", \"시가총액\"]"
   ]
  },
  {
   "cell_type": "markdown",
   "id": "5836ff12-e481-4d79-98f9-c26c60b711be",
   "metadata": {
    "tags": []
   },
   "source": [
    "### (2) CSV 파일 데이터 불러오기"
   ]
  },
  {
   "cell_type": "code",
   "execution_count": 29,
   "id": "bc4186c6-9f56-4357-b5aa-43eb126e1cb1",
   "metadata": {},
   "outputs": [],
   "source": [
    "# CSV 프로파일 기반으로 class<PandasBasedCSVHandler> 인스턴스에 데이터 병합\n",
    "for csv_file_info in csv_file_profiles: # 프로파일 요소 기반 iteration 작업\n",
    "    for date_num in Utils.generate_int_range(csv_file_info[\"date_range\"][0], csv_file_info[\"date_range\"][1]): # Iterator 생성\n",
    "        csv_handler_krx.take_data_from_CSV_file(\n",
    "            data_id = date_num, # Year + Month 형식의 정수\n",
    "            filepath = filepath_form.format(csv_file_info[\"name\"], date_num), # 폴더를 포함한 전체 경로의 파일명\n",
    "            encoding=\"cp949\" # 파일 인코딩 명시\n",
    "        )"
   ]
  },
  {
   "cell_type": "markdown",
   "id": "42193b6d-df23-4615-b984-9befdda37c56",
   "metadata": {},
   "source": [
    " - 날짜 형식 일치시키기"
   ]
  },
  {
   "cell_type": "code",
   "execution_count": 31,
   "id": "d6d38d9f-a5b9-411b-9270-39443c6b310a",
   "metadata": {},
   "outputs": [],
   "source": [
    "dataframe_list = csv_handler_krx.get_CSV_data()\n",
    "\n",
    "for df_id in dataframe_list:\n",
    "    dataframe_list[df_id][\"거래일자\"] = pd.to_datetime(dataframe_list[df_id]['거래일자'].astype('str'))  "
   ]
  },
  {
   "cell_type": "code",
   "execution_count": 32,
   "id": "118c0750-2236-4d47-b307-3e32e3bebf18",
   "metadata": {},
   "outputs": [
    {
     "data": {
      "text/plain": [
       "True"
      ]
     },
     "execution_count": 32,
     "metadata": {},
     "output_type": "execute_result"
    }
   ],
   "source": [
    "# 검증할 속성 내용들은 [1. 데이터 경로 및 이름 설정]의 selected_properties 변수 참고\n",
    "csv_handler_krx.validate(selected_properties)"
   ]
  },
  {
   "cell_type": "markdown",
   "id": "11694578-2ded-4d0e-94d8-84bbb3c7b255",
   "metadata": {
    "tags": []
   },
   "source": [
    "#### - 핸들러(Hander)에 저장된 CSV 데이터 형식\n",
    "\n",
    "```js\n",
    "{\n",
    "    202001 : Pandas,\n",
    "    202002 : Pandas,\n",
    "    202003 : Pandas,\n",
    "    202101 : Pandas,\n",
    "    202102 : Pandas,\n",
    "    202103 : Pandas,\n",
    "    202201 : Pandas,\n",
    "    202202 : Pandas,\n",
    "    202203 : Pandas\n",
    "}\n",
    "```"
   ]
  },
  {
   "cell_type": "markdown",
   "id": "920dfba8-1e84-4428-8d1c-0308399d0710",
   "metadata": {
    "tags": []
   },
   "source": [
    "## 01-B. 데이터 수집 및 전처리 단계: `미국 3년 채권수익률`"
   ]
  },
  {
   "cell_type": "code",
   "execution_count": 33,
   "id": "240382ac-6acb-444b-a3a6-4cba6bcbd53f",
   "metadata": {
    "tags": []
   },
   "outputs": [],
   "source": [
    "# class<PandasBasedCSVHandler> 인스턴스 생성\n",
    "csv_handler_bond:PandasBasedCSVHandler = PandasBasedCSVHandler(pd)"
   ]
  },
  {
   "cell_type": "markdown",
   "id": "524d4018-15db-4edd-8b31-f80818defd05",
   "metadata": {
    "tags": []
   },
   "source": [
    "### (1) 데이터 경로 및 이름 설정"
   ]
  },
  {
   "cell_type": "code",
   "execution_count": 34,
   "id": "8d01cde5-510f-4450-8fc7-88f5c63972cf",
   "metadata": {
    "tags": []
   },
   "outputs": [],
   "source": [
    "# CSV 파일 루트 경로\n",
    "root_dir:str = os.path.join(\"..\", \"data\")\n",
    "\n",
    "# CSV 파일 전체 경로 및 이름 형식\n",
    "filepath_form:str = os.path.join(root_dir, \"{0}\",\"{1}.csv\")\n",
    "\n",
    "# 각 CSV 파일들을 가져오기 위한 프로파일 list<dict[]>\n",
    "csv_file_profiles : list = [\n",
    "    {\n",
    "        \"name\" : \"미국 3년 채권수익률\",\n",
    "        \"date_range\" : [202001, 202003]\n",
    "    },\n",
    "    {\n",
    "        \"name\" : \"미국 3년 채권수익률\",\n",
    "        \"date_range\" : [202101, 202103]\n",
    "    },\n",
    "    {\n",
    "        \"name\" : \"미국 3년 채권수익률\",\n",
    "        \"date_range\" : [202201, 202203]\n",
    "    }\n",
    "]\n",
    "\n",
    "# 데이터 전처리에 필요한 속성들\n",
    "selected_properties = [\"날짜\", \"종가\", \"오픈\", \"고가\", \"저가\", \"변동 %\"]"
   ]
  },
  {
   "cell_type": "markdown",
   "id": "d2679b73-7de2-4b6f-a72a-584022b9e45f",
   "metadata": {
    "tags": []
   },
   "source": [
    "### (2) CSV 파일 데이터 불러오기"
   ]
  },
  {
   "cell_type": "code",
   "execution_count": 35,
   "id": "93933f90-6f23-413b-a26e-0bd5c7cba79c",
   "metadata": {},
   "outputs": [],
   "source": [
    "# CSV 프로파일 기반으로 class<PandasBasedCSVHandler> 인스턴스에 데이터 병합\n",
    "for csv_file_info in csv_file_profiles: # 프로파일 요소 기반 iteration 작업\n",
    "    for date_num in Utils.generate_int_range(csv_file_info[\"date_range\"][0], csv_file_info[\"date_range\"][1]): # Iterator 생성\n",
    "        csv_handler_bond.take_data_from_CSV_file(\n",
    "            data_id = date_num, # Year + Month 형식의 정수\n",
    "            filepath = filepath_form.format(csv_file_info[\"name\"], date_num), # 폴더를 포함한 전체 경로의 파일명\n",
    "            encoding=\"cp949\" # 파일 인코딩 명시\n",
    "        )"
   ]
  },
  {
   "cell_type": "markdown",
   "id": "98999206-ce55-4a0c-a7e0-d433c5873a46",
   "metadata": {},
   "source": [
    " - 날짜 형식 일치시키기"
   ]
  },
  {
   "cell_type": "code",
   "execution_count": 36,
   "id": "0fd22e57-27fb-4b4e-9227-92e8a29a3b38",
   "metadata": {},
   "outputs": [],
   "source": [
    "dataframe_list = csv_handler_bond.get_CSV_data()\n",
    "\n",
    "for df_id in dataframe_list:\n",
    "    dataframe_list[df_id]['날짜'] = pd.to_datetime(dataframe_list[df_id]['날짜'], format='%Y년 %m월 %d일')  "
   ]
  },
  {
   "cell_type": "markdown",
   "id": "db89906d-38d5-4c5f-be02-2ad15825e16b",
   "metadata": {
    "tags": []
   },
   "source": [
    "### (3) 데이터 속성 검증하기"
   ]
  },
  {
   "cell_type": "code",
   "execution_count": 37,
   "id": "5ef5cccd-0a2a-46c5-8427-a94a90804dcf",
   "metadata": {},
   "outputs": [
    {
     "data": {
      "text/plain": [
       "True"
      ]
     },
     "execution_count": 37,
     "metadata": {},
     "output_type": "execute_result"
    }
   ],
   "source": [
    "# 검증할 속성 내용들은 [1. 데이터 경로 및 이름 설정]의 selected_properties 변수 참고\n",
    "csv_handler_bond.validate(selected_properties)"
   ]
  },
  {
   "cell_type": "markdown",
   "id": "9f1d4fbb-7c0b-4c3d-904c-45c09fbfea19",
   "metadata": {
    "tags": []
   },
   "source": [
    "#### - 핸들러(Hander)에 저장된 CSV 데이터 형식\n",
    "\n",
    "```js\n",
    "{\n",
    "    202001 : Pandas,\n",
    "    202002 : Pandas,\n",
    "    202003 : Pandas,\n",
    "    202101 : Pandas,\n",
    "    202102 : Pandas,\n",
    "    202103 : Pandas,\n",
    "    202201 : Pandas,\n",
    "    202202 : Pandas,\n",
    "    202203 : Pandas\n",
    "}\n",
    "```"
   ]
  },
  {
   "cell_type": "markdown",
   "id": "09ede534-ed23-4a26-a2bb-d573ee6b3960",
   "metadata": {
    "tags": []
   },
   "source": [
    "## 01-C. 데이터 수집 및 전처리 단계: `환율 추이`"
   ]
  },
  {
   "cell_type": "code",
   "execution_count": 38,
   "id": "15ab0e9e-f7e8-449d-8653-ed10784dec16",
   "metadata": {
    "tags": []
   },
   "outputs": [],
   "source": [
    "# class<PandasBasedCSVHandler> 인스턴스 생성\n",
    "csv_handler_exchange_rate:PandasBasedCSVHandler = PandasBasedCSVHandler(pd)"
   ]
  },
  {
   "cell_type": "markdown",
   "id": "a35e4f8f-a2e7-4fe8-b5b1-7976551df600",
   "metadata": {
    "tags": []
   },
   "source": [
    "### (1) 데이터 경로 및 이름 설정"
   ]
  },
  {
   "cell_type": "code",
   "execution_count": 39,
   "id": "77445cc5-372a-47d2-8297-a6c3a0245704",
   "metadata": {
    "tags": []
   },
   "outputs": [],
   "source": [
    "# CSV 파일 루트 경로\n",
    "root_dir:str = os.path.join(\"..\", \"data\")\n",
    "\n",
    "# CSV 파일 전체 경로 및 이름 형식\n",
    "filepath_form:str = os.path.join(root_dir, \"{0}\",\"{1}.csv\")\n",
    "\n",
    "# 각 CSV 파일들을 가져오기 위한 프로파일 list<dict[]>\n",
    "csv_file_profiles : list = [\n",
    "    {\n",
    "        \"name\" : \"환율 추이\",\n",
    "        \"date_range\" : [202001, 202003]\n",
    "    },\n",
    "    {\n",
    "        \"name\" : \"환율 추이\",\n",
    "        \"date_range\" : [202101, 202103]\n",
    "    },\n",
    "    {\n",
    "        \"name\" : \"환율 추이\",\n",
    "        \"date_range\" : [202201, 202203]\n",
    "    }\n",
    "]\n",
    "\n",
    "# \"종목코드\"를 기준으로 각 CSV 데이터들을 식별하는 용도의 자료구조\n",
    "index_properties:list = dict()\n",
    "\n",
    "# 데이터 전처리에 필요한 속성들\n",
    "selected_properties = [\"날짜\", \"종가\", \"오픈\", \"고가\", \"저가\", \"변동 %\"]"
   ]
  },
  {
   "cell_type": "markdown",
   "id": "2c02c6b7-23c0-431c-8123-46cb0aeb3214",
   "metadata": {
    "tags": []
   },
   "source": [
    "### (2) CSV 파일 데이터 불러오기"
   ]
  },
  {
   "cell_type": "code",
   "execution_count": 40,
   "id": "e54d0551-cdef-431f-ae4c-306192611f9e",
   "metadata": {},
   "outputs": [],
   "source": [
    "# CSV 프로파일 기반으로 class<PandasBasedCSVHandler> 인스턴스에 데이터 병합\n",
    "for csv_file_info in csv_file_profiles: # 프로파일 요소 기반 iteration 작업\n",
    "    for date_num in Utils.generate_int_range(csv_file_info[\"date_range\"][0], csv_file_info[\"date_range\"][1]): # Iterator 생성\n",
    "        csv_handler_exchange_rate.take_data_from_CSV_file(\n",
    "            data_id = date_num, # Year + Month 형식의 정수\n",
    "            filepath = filepath_form.format(csv_file_info[\"name\"], date_num), # 폴더를 포함한 전체 경로의 파일명\n",
    "            encoding=\"cp949\" # 파일 인코딩 명시\n",
    "        )"
   ]
  },
  {
   "cell_type": "markdown",
   "id": "b3d51373-7ebf-43f4-8a7d-fe2f55ae3bb1",
   "metadata": {},
   "source": [
    " - 날짜 형식 일치시키기"
   ]
  },
  {
   "cell_type": "code",
   "execution_count": 41,
   "id": "a6e1d019-d615-4e7f-801d-9699a115b16b",
   "metadata": {},
   "outputs": [],
   "source": [
    "dataframe_list = csv_handler_exchange_rate.get_CSV_data()\n",
    "\n",
    "for df_id in dataframe_list:\n",
    "    dataframe_list[df_id]['날짜'] = pd.to_datetime(dataframe_list[df_id]['날짜'], format='%Y년 %m월 %d일')  "
   ]
  },
  {
   "cell_type": "code",
   "execution_count": 42,
   "id": "2633f7bf-aa1a-488d-acd3-e3fa995fce90",
   "metadata": {
    "tags": []
   },
   "outputs": [
    {
     "data": {
      "text/plain": [
       "True"
      ]
     },
     "execution_count": 42,
     "metadata": {},
     "output_type": "execute_result"
    }
   ],
   "source": [
    "# 검증할 속성 내용들은 [1. 데이터 경로 및 이름 설정]의 selected_properties 변수 참고\n",
    "csv_handler_exchange_rate.validate(selected_properties)"
   ]
  },
  {
   "cell_type": "markdown",
   "id": "2b6f167d-c8c9-4e61-aab7-f37c162772d5",
   "metadata": {
    "tags": []
   },
   "source": [
    "#### - 핸들러(Hander)에 저장된 CSV 데이터 형식\n",
    "\n",
    "```js\n",
    "{\n",
    "    202001 : Pandas,\n",
    "    202002 : Pandas,\n",
    "    202003 : Pandas,\n",
    "    202101 : Pandas,\n",
    "    202102 : Pandas,\n",
    "    202103 : Pandas,\n",
    "    202201 : Pandas,\n",
    "    202202 : Pandas,\n",
    "    202203 : Pandas\n",
    "}\n",
    "```"
   ]
  },
  {
   "cell_type": "code",
   "execution_count": 43,
   "id": "f36dc4ab-e03c-4053-94f6-9e63e6a3591b",
   "metadata": {},
   "outputs": [
    {
     "data": {
      "text/html": [
       "<div>\n",
       "<style scoped>\n",
       "    .dataframe tbody tr th:only-of-type {\n",
       "        vertical-align: middle;\n",
       "    }\n",
       "\n",
       "    .dataframe tbody tr th {\n",
       "        vertical-align: top;\n",
       "    }\n",
       "\n",
       "    .dataframe thead th {\n",
       "        text-align: right;\n",
       "    }\n",
       "</style>\n",
       "<table border=\"1\" class=\"dataframe\">\n",
       "  <thead>\n",
       "    <tr style=\"text-align: right;\">\n",
       "      <th></th>\n",
       "      <th>거래일자</th>\n",
       "      <th>시장ID</th>\n",
       "      <th>종목코드</th>\n",
       "      <th>종목명</th>\n",
       "      <th>시가</th>\n",
       "      <th>고가</th>\n",
       "      <th>저가</th>\n",
       "      <th>종가</th>\n",
       "      <th>거래량</th>\n",
       "      <th>거래대금</th>\n",
       "      <th>...</th>\n",
       "      <th>주문량기준취소율</th>\n",
       "      <th>종목별거래횟수기준매수매도불균형</th>\n",
       "      <th>종목별거래량기준매수매도불균형</th>\n",
       "      <th>주문횟수기준주문불균형</th>\n",
       "      <th>주문량기준주문불균형</th>\n",
       "      <th>평균호가스프레드</th>\n",
       "      <th>평균비율스프레드</th>\n",
       "      <th>평균유효스프레드</th>\n",
       "      <th>평균실현스프레드</th>\n",
       "      <th>HS 역선택비용</th>\n",
       "    </tr>\n",
       "  </thead>\n",
       "  <tbody>\n",
       "    <tr>\n",
       "      <th>18322</th>\n",
       "      <td>2020-01-23</td>\n",
       "      <td>STK</td>\n",
       "      <td>KYG5307W1015</td>\n",
       "      <td>엘브이엠씨홀딩스보통주</td>\n",
       "      <td>4220</td>\n",
       "      <td>4325</td>\n",
       "      <td>4200</td>\n",
       "      <td>4290</td>\n",
       "      <td>178258</td>\n",
       "      <td>757659915</td>\n",
       "      <td>...</td>\n",
       "      <td>0.209617</td>\n",
       "      <td>0.591862</td>\n",
       "      <td>0.444226</td>\n",
       "      <td>1.415942</td>\n",
       "      <td>1.016236</td>\n",
       "      <td>15.250000</td>\n",
       "      <td>0.310432</td>\n",
       "      <td>16.331689</td>\n",
       "      <td>3.841060</td>\n",
       "      <td>12.490629</td>\n",
       "    </tr>\n",
       "    <tr>\n",
       "      <th>18323</th>\n",
       "      <td>2020-01-28</td>\n",
       "      <td>STK</td>\n",
       "      <td>KYG5307W1015</td>\n",
       "      <td>엘브이엠씨홀딩스보통주</td>\n",
       "      <td>4050</td>\n",
       "      <td>4200</td>\n",
       "      <td>3740</td>\n",
       "      <td>4095</td>\n",
       "      <td>348080</td>\n",
       "      <td>1404993900</td>\n",
       "      <td>...</td>\n",
       "      <td>0.223843</td>\n",
       "      <td>0.377031</td>\n",
       "      <td>0.286203</td>\n",
       "      <td>1.792737</td>\n",
       "      <td>0.924008</td>\n",
       "      <td>60.220571</td>\n",
       "      <td>0.547794</td>\n",
       "      <td>35.148459</td>\n",
       "      <td>14.807236</td>\n",
       "      <td>20.341223</td>\n",
       "    </tr>\n",
       "    <tr>\n",
       "      <th>18324</th>\n",
       "      <td>2020-01-29</td>\n",
       "      <td>STK</td>\n",
       "      <td>KYG5307W1015</td>\n",
       "      <td>엘브이엠씨홀딩스보통주</td>\n",
       "      <td>4095</td>\n",
       "      <td>4180</td>\n",
       "      <td>4095</td>\n",
       "      <td>4105</td>\n",
       "      <td>104726</td>\n",
       "      <td>433111520</td>\n",
       "      <td>...</td>\n",
       "      <td>0.209451</td>\n",
       "      <td>0.546139</td>\n",
       "      <td>0.447224</td>\n",
       "      <td>1.129568</td>\n",
       "      <td>0.758050</td>\n",
       "      <td>13.241726</td>\n",
       "      <td>0.316197</td>\n",
       "      <td>15.988701</td>\n",
       "      <td>10.753968</td>\n",
       "      <td>5.234733</td>\n",
       "    </tr>\n",
       "    <tr>\n",
       "      <th>18325</th>\n",
       "      <td>2020-01-30</td>\n",
       "      <td>STK</td>\n",
       "      <td>KYG5307W1015</td>\n",
       "      <td>엘브이엠씨홀딩스보통주</td>\n",
       "      <td>4100</td>\n",
       "      <td>4145</td>\n",
       "      <td>3985</td>\n",
       "      <td>4050</td>\n",
       "      <td>145074</td>\n",
       "      <td>586088370</td>\n",
       "      <td>...</td>\n",
       "      <td>0.258182</td>\n",
       "      <td>0.375830</td>\n",
       "      <td>0.311054</td>\n",
       "      <td>1.687097</td>\n",
       "      <td>0.904437</td>\n",
       "      <td>17.125451</td>\n",
       "      <td>0.387536</td>\n",
       "      <td>19.621514</td>\n",
       "      <td>10.398860</td>\n",
       "      <td>9.222654</td>\n",
       "    </tr>\n",
       "    <tr>\n",
       "      <th>18326</th>\n",
       "      <td>2020-01-31</td>\n",
       "      <td>STK</td>\n",
       "      <td>KYG5307W1015</td>\n",
       "      <td>엘브이엠씨홀딩스보통주</td>\n",
       "      <td>4000</td>\n",
       "      <td>4250</td>\n",
       "      <td>4000</td>\n",
       "      <td>4085</td>\n",
       "      <td>193650</td>\n",
       "      <td>797499085</td>\n",
       "      <td>...</td>\n",
       "      <td>0.245505</td>\n",
       "      <td>0.532700</td>\n",
       "      <td>0.406796</td>\n",
       "      <td>1.050000</td>\n",
       "      <td>0.873936</td>\n",
       "      <td>18.695652</td>\n",
       "      <td>0.383883</td>\n",
       "      <td>20.617089</td>\n",
       "      <td>-0.902857</td>\n",
       "      <td>21.519946</td>\n",
       "    </tr>\n",
       "  </tbody>\n",
       "</table>\n",
       "<p>5 rows × 58 columns</p>\n",
       "</div>"
      ],
      "text/plain": [
       "            거래일자 시장ID          종목코드          종목명    시가    고가    저가    종가  \\\n",
       "18322 2020-01-23  STK  KYG5307W1015  엘브이엠씨홀딩스보통주  4220  4325  4200  4290   \n",
       "18323 2020-01-28  STK  KYG5307W1015  엘브이엠씨홀딩스보통주  4050  4200  3740  4095   \n",
       "18324 2020-01-29  STK  KYG5307W1015  엘브이엠씨홀딩스보통주  4095  4180  4095  4105   \n",
       "18325 2020-01-30  STK  KYG5307W1015  엘브이엠씨홀딩스보통주  4100  4145  3985  4050   \n",
       "18326 2020-01-31  STK  KYG5307W1015  엘브이엠씨홀딩스보통주  4000  4250  4000  4085   \n",
       "\n",
       "          거래량        거래대금  ...  주문량기준취소율  종목별거래횟수기준매수매도불균형 종목별거래량기준매수매도불균형  \\\n",
       "18322  178258   757659915  ...  0.209617          0.591862        0.444226   \n",
       "18323  348080  1404993900  ...  0.223843          0.377031        0.286203   \n",
       "18324  104726   433111520  ...  0.209451          0.546139        0.447224   \n",
       "18325  145074   586088370  ...  0.258182          0.375830        0.311054   \n",
       "18326  193650   797499085  ...  0.245505          0.532700        0.406796   \n",
       "\n",
       "      주문횟수기준주문불균형  주문량기준주문불균형   평균호가스프레드  평균비율스프레드   평균유효스프레드   평균실현스프레드  \\\n",
       "18322    1.415942    1.016236  15.250000  0.310432  16.331689   3.841060   \n",
       "18323    1.792737    0.924008  60.220571  0.547794  35.148459  14.807236   \n",
       "18324    1.129568    0.758050  13.241726  0.316197  15.988701  10.753968   \n",
       "18325    1.687097    0.904437  17.125451  0.387536  19.621514  10.398860   \n",
       "18326    1.050000    0.873936  18.695652  0.383883  20.617089  -0.902857   \n",
       "\n",
       "        HS 역선택비용  \n",
       "18322  12.490629  \n",
       "18323  20.341223  \n",
       "18324   5.234733  \n",
       "18325   9.222654  \n",
       "18326  21.519946  \n",
       "\n",
       "[5 rows x 58 columns]"
      ]
     },
     "execution_count": 43,
     "metadata": {},
     "output_type": "execute_result"
    }
   ],
   "source": [
    "csv_handler_krx.get_CSV_data()[202001].tail()"
   ]
  },
  {
   "cell_type": "code",
   "execution_count": 44,
   "id": "56961ca7-d551-4d40-9af9-e43b745b75c4",
   "metadata": {},
   "outputs": [
    {
     "data": {
      "text/html": [
       "<div>\n",
       "<style scoped>\n",
       "    .dataframe tbody tr th:only-of-type {\n",
       "        vertical-align: middle;\n",
       "    }\n",
       "\n",
       "    .dataframe tbody tr th {\n",
       "        vertical-align: top;\n",
       "    }\n",
       "\n",
       "    .dataframe thead th {\n",
       "        text-align: right;\n",
       "    }\n",
       "</style>\n",
       "<table border=\"1\" class=\"dataframe\">\n",
       "  <thead>\n",
       "    <tr style=\"text-align: right;\">\n",
       "      <th></th>\n",
       "      <th>날짜</th>\n",
       "      <th>종가</th>\n",
       "      <th>오픈</th>\n",
       "      <th>고가</th>\n",
       "      <th>저가</th>\n",
       "      <th>변동 %</th>\n",
       "    </tr>\n",
       "  </thead>\n",
       "  <tbody>\n",
       "    <tr>\n",
       "      <th>21</th>\n",
       "      <td>2020-01-06</td>\n",
       "      <td>1.5593</td>\n",
       "      <td>1.5270</td>\n",
       "      <td>1.5760</td>\n",
       "      <td>1.5160</td>\n",
       "      <td>2.32%</td>\n",
       "    </tr>\n",
       "    <tr>\n",
       "      <th>22</th>\n",
       "      <td>2020-01-05</td>\n",
       "      <td>1.5240</td>\n",
       "      <td>1.5267</td>\n",
       "      <td>1.5267</td>\n",
       "      <td>1.5240</td>\n",
       "      <td>-1.40%</td>\n",
       "    </tr>\n",
       "    <tr>\n",
       "      <th>23</th>\n",
       "      <td>2020-01-03</td>\n",
       "      <td>1.5457</td>\n",
       "      <td>1.5620</td>\n",
       "      <td>1.5730</td>\n",
       "      <td>1.5240</td>\n",
       "      <td>-3.09%</td>\n",
       "    </tr>\n",
       "    <tr>\n",
       "      <th>24</th>\n",
       "      <td>2020-01-02</td>\n",
       "      <td>1.5950</td>\n",
       "      <td>1.6140</td>\n",
       "      <td>1.6250</td>\n",
       "      <td>1.5650</td>\n",
       "      <td>-0.85%</td>\n",
       "    </tr>\n",
       "    <tr>\n",
       "      <th>25</th>\n",
       "      <td>2020-01-01</td>\n",
       "      <td>1.6086</td>\n",
       "      <td>1.6086</td>\n",
       "      <td>1.6086</td>\n",
       "      <td>1.6086</td>\n",
       "      <td>0.00%</td>\n",
       "    </tr>\n",
       "  </tbody>\n",
       "</table>\n",
       "</div>"
      ],
      "text/plain": [
       "           날짜      종가      오픈      고가      저가    변동 %\n",
       "21 2020-01-06  1.5593  1.5270  1.5760  1.5160   2.32%\n",
       "22 2020-01-05  1.5240  1.5267  1.5267  1.5240  -1.40%\n",
       "23 2020-01-03  1.5457  1.5620  1.5730  1.5240  -3.09%\n",
       "24 2020-01-02  1.5950  1.6140  1.6250  1.5650  -0.85%\n",
       "25 2020-01-01  1.6086  1.6086  1.6086  1.6086   0.00%"
      ]
     },
     "execution_count": 44,
     "metadata": {},
     "output_type": "execute_result"
    }
   ],
   "source": [
    "csv_handler_bond.get_CSV_data()[202001].tail()"
   ]
  },
  {
   "cell_type": "code",
   "execution_count": 45,
   "id": "a529e90b-0567-40df-afff-88b0f375733e",
   "metadata": {},
   "outputs": [
    {
     "data": {
      "text/html": [
       "<div>\n",
       "<style scoped>\n",
       "    .dataframe tbody tr th:only-of-type {\n",
       "        vertical-align: middle;\n",
       "    }\n",
       "\n",
       "    .dataframe tbody tr th {\n",
       "        vertical-align: top;\n",
       "    }\n",
       "\n",
       "    .dataframe thead th {\n",
       "        text-align: right;\n",
       "    }\n",
       "</style>\n",
       "<table border=\"1\" class=\"dataframe\">\n",
       "  <thead>\n",
       "    <tr style=\"text-align: right;\">\n",
       "      <th></th>\n",
       "      <th>날짜</th>\n",
       "      <th>종가</th>\n",
       "      <th>오픈</th>\n",
       "      <th>고가</th>\n",
       "      <th>저가</th>\n",
       "      <th>변동 %</th>\n",
       "    </tr>\n",
       "  </thead>\n",
       "  <tbody>\n",
       "    <tr>\n",
       "      <th>18</th>\n",
       "      <td>2020-01-07</td>\n",
       "      <td>1,167.30</td>\n",
       "      <td>1,167.54</td>\n",
       "      <td>1,168.82</td>\n",
       "      <td>1,163.11</td>\n",
       "      <td>0.03%</td>\n",
       "    </tr>\n",
       "    <tr>\n",
       "      <th>19</th>\n",
       "      <td>2020-01-06</td>\n",
       "      <td>1,166.94</td>\n",
       "      <td>1,165.89</td>\n",
       "      <td>1,172.99</td>\n",
       "      <td>1,165.78</td>\n",
       "      <td>0.17%</td>\n",
       "    </tr>\n",
       "    <tr>\n",
       "      <th>20</th>\n",
       "      <td>2020-01-03</td>\n",
       "      <td>1,164.95</td>\n",
       "      <td>1,157.94</td>\n",
       "      <td>1,168.83</td>\n",
       "      <td>1,155.70</td>\n",
       "      <td>0.66%</td>\n",
       "    </tr>\n",
       "    <tr>\n",
       "      <th>21</th>\n",
       "      <td>2020-01-02</td>\n",
       "      <td>1,157.35</td>\n",
       "      <td>1,155.02</td>\n",
       "      <td>1,161.15</td>\n",
       "      <td>1,153.48</td>\n",
       "      <td>0.29%</td>\n",
       "    </tr>\n",
       "    <tr>\n",
       "      <th>22</th>\n",
       "      <td>2020-01-01</td>\n",
       "      <td>1,154.02</td>\n",
       "      <td>1,155.07</td>\n",
       "      <td>1,155.32</td>\n",
       "      <td>1,154.08</td>\n",
       "      <td>0.00%</td>\n",
       "    </tr>\n",
       "  </tbody>\n",
       "</table>\n",
       "</div>"
      ],
      "text/plain": [
       "           날짜        종가        오픈        고가        저가   변동 %\n",
       "18 2020-01-07  1,167.30  1,167.54  1,168.82  1,163.11  0.03%\n",
       "19 2020-01-06  1,166.94  1,165.89  1,172.99  1,165.78  0.17%\n",
       "20 2020-01-03  1,164.95  1,157.94  1,168.83  1,155.70  0.66%\n",
       "21 2020-01-02  1,157.35  1,155.02  1,161.15  1,153.48  0.29%\n",
       "22 2020-01-01  1,154.02  1,155.07  1,155.32  1,154.08  0.00%"
      ]
     },
     "execution_count": 45,
     "metadata": {},
     "output_type": "execute_result"
    }
   ],
   "source": [
    "csv_handler_exchange_rate.get_CSV_data()[202001].tail()"
   ]
  },
  {
   "cell_type": "code",
   "execution_count": null,
   "id": "6caebb08-26d8-40ac-ae22-f5bee94cdf84",
   "metadata": {},
   "outputs": [],
   "source": []
  }
 ],
 "metadata": {
  "kernelspec": {
   "display_name": "Python 3 (ipykernel)",
   "language": "python",
   "name": "python3"
  },
  "language_info": {
   "codemirror_mode": {
    "name": "ipython",
    "version": 3
   },
   "file_extension": ".py",
   "mimetype": "text/x-python",
   "name": "python",
   "nbconvert_exporter": "python",
   "pygments_lexer": "ipython3",
   "version": "3.9.7"
  }
 },
 "nbformat": 4,
 "nbformat_minor": 5
}
