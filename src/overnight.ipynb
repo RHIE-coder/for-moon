{
 "cells": [
  {
   "cell_type": "markdown",
   "id": "1dcbb5ea-9a91-4e7b-8ab6-515e76d9f938",
   "metadata": {
    "tags": []
   },
   "source": [
    "<h1 align=\"center\">KRX Big-Data Contest</h1>\n",
    "\n",
    "# [ 1 ] Overview\n",
    "\n",
    "## 1. Sources\n",
    "\n",
    "### - Basic\n",
    "\n",
    " - `[유가증권]일별 시세정보(주문번호-1300-27)` : 2020년 1분기 주식 정보 -> _CSV 형식_\n",
    " - `[유가증권]일별 시세정보(주문번호-1300-30)` : 2021년 1분기 주식 정보 -> _CSV 형식_\n",
    " - `[유가증권]일별 시세정보(주문번호-1300-33)` : 2022년 1분기 주식 정보 -> _CSV 형식_\n",
    "\n",
    "### - Extension ( https://kr.investing.com )\n",
    "\n",
    " - `환율 추이` : 2020년, 2021년, 2022년 1분기 -> _CSV 형식_\n",
    " - `미국 3년 채권수익률` : 2020년, 2021년, 2022년 1분기 -> _CSV 형식_\n",
    " - 각종 주식 지표를 계산하기 위한 추가 KRX 추가 데이터\n",
    "   - 2019년 12월\n",
    "   - 2020년 12월\n",
    "   - 2021년 12월\n",
    "\n",
    "<br><br><br>\n",
    "\n",
    "## 2. Targets from `.CSV` files (Input)\n",
    "\n",
    "| 항목 명 | 항목 영어명 | 모델 학습값 여부 |\n",
    "|:---:|:---:|:---:|\n",
    "|`거래일자`|TRD_DD|Y|\n",
    "|`종목코드`|ISU_CD|N|\n",
    "|`종목명`|ISU_NM|N|\n",
    "|`시가`|OPNPRC|Y|\n",
    "|`고가`|HGPRC|Y|\n",
    "|`저가`|LWPRC|Y|\n",
    "|`종가`|CLSPRC|Y|\n",
    "|(누적)`거래량`|ACC_TRDVOL|Y|\n",
    "|`업종구분`(지수업종코드)|IDX_IND_CD|N|\n",
    "|`PER`(주가수익률)|PER|Y|\n",
    "|`상장일`|LIST_DD|N|\n",
    "|`시가총액`|MKTCAP|Y|\n",
    "\n",
    "<!-- <br><br><br>\n",
    "\n",
    "## 3. Results (Output)\n",
    "\n",
    "| Property | Description |\n",
    "|:---:|:---:|\n",
    "|TRD_DD|`거래일자`|\n",
    "|ISU_CD|`종목코드`|\n",
    "|ISU_NM|`종목명`|\n",
    "|OPNPRC|`시가`|\n",
    "|HGPRC|`고가`|\n",
    "|LWPRC|`저가`|\n",
    "|CLSPRC|`종가`|\n",
    "|ACC_TRDVOL|(누적)`거래량`|\n",
    "|IDX_IND_CD|`업종구분`(지수업종코드)|\n",
    "|PER|`PER`(주가수익률)|\n",
    "|LIST_DD|`상장일`|\n",
    "|MKTCAP|`시가총액`|\n",
    " -->\n",
    "<br><br><br><hr>"
   ]
  },
  {
   "cell_type": "markdown",
   "id": "bfef027c-f7a5-4e05-a323-43c9fa18456d",
   "metadata": {},
   "source": [
    "# [ 2 ] Importing Modules"
   ]
  },
  {
   "cell_type": "code",
   "execution_count": 1,
   "id": "8e7c51e5-fd8b-4117-9945-4eef36f8d905",
   "metadata": {
    "tags": []
   },
   "outputs": [],
   "source": [
    "# Data Handlers\n",
    "import numpy as np\n",
    "import pandas as pd\n",
    "import matplotlib.pyplot as plt\n",
    "from IPython.display import display\n",
    "\n",
    "# Code Libraries\n",
    "import os\n",
    "import copy\n",
    "import abc\n",
    "import datetime"
   ]
  },
  {
   "cell_type": "markdown",
   "id": "c14875bb-3140-4436-92ce-61868dee0c9d",
   "metadata": {},
   "source": [
    "<br><br><br>"
   ]
  },
  {
   "cell_type": "markdown",
   "id": "366a668d-23a4-4556-ba61-4e06b8ecb3d0",
   "metadata": {},
   "source": [
    "# [ 3 ] Declarations"
   ]
  },
  {
   "cell_type": "code",
   "execution_count": 2,
   "id": "19a023b5-1a8a-462a-a2e7-16bf1cf4eda7",
   "metadata": {},
   "outputs": [],
   "source": [
    "############################################################################################################\n",
    "\n",
    "import copy\n",
    "\n",
    "class Utils:\n",
    "    \"\"\"\n",
    "    데이터 처리를 위해 유용한 기능들을 정의한 클래스입니다.\n",
    "    \"\"\"\n",
    "    @staticmethod\n",
    "    def generate_int_range(start:int, end:int)->iter:\n",
    "        \"\"\"\n",
    "        start와 end 사이의 정수들을 반환하는 Generator입니다.\n",
    "        \"\"\"\n",
    "        if(start >= end):\n",
    "            raise SyntaxError(f\"{start} must be larger than {end}\")\n",
    "        while start <= end:\n",
    "            yield start\n",
    "            start += 1\n",
    "            \n",
    "    @staticmethod\n",
    "    def clone(target:object)->object:\n",
    "        \"\"\"\n",
    "        깊은 복사를 한 인스턴스를 반환합니다.\n",
    "        \"\"\"\n",
    "        return copy.deepcopy(target)\n",
    "    \n",
    "    @staticmethod\n",
    "    def flatten(target:list)->list:\n",
    "        \"\"\"\n",
    "        2차원의 리스트를 1차원 리스트로 변환시켜 반환합니다.\n",
    "        \"\"\"\n",
    "        return [y for x in target for y in x]\n",
    "    \n",
    "############################################################################################################\n",
    "\n",
    "import pandas\n",
    "\n",
    "class PandasBasedCSVHandler:\n",
    "    \"\"\"\n",
    "    Pandas 모듈을 기반으로 CSV 파일 데이터를 다루는 클래스입니다.\n",
    "    \"\"\"\n",
    "    def __init__(self, handler:pandas):\n",
    "        self.__handler = handler\n",
    "        self.__data = dict()\n",
    "        \n",
    "    @property\n",
    "    def handler(self)->pandas:\n",
    "        \"\"\"\n",
    "        주입받은 Pandas 객체를 반환합니다.\n",
    "        이미 생성된 handler 인스턴스는 대체될 수 없고 반환만 가능합니다.\n",
    "        \"\"\"\n",
    "        return self.__handler\n",
    "    \n",
    "    def take_data_from_CSV_file(self, *, data_id:object, filepath:str, encoding:str=\"utf-8\")->object:\n",
    "        \"\"\"\n",
    "        불러올 CSV 파일의 경로를 받아 데이터를 가져오고\n",
    "        데이터를 식별할 data_id를 받습니다.\n",
    "        Argument를 반드시 키워드로 명시하여 Parameter에 전달해야 합니다.\n",
    "        \"\"\"\n",
    "        self.__data[data_id] = self.__handler.read_csv(filepath, encoding=encoding)\n",
    "            \n",
    "        return self\n",
    "    \n",
    "    def get_CSV_data(self)->dict:\n",
    "        \"\"\"\n",
    "        다음 Dictionary 자료구조를 반환합니다.\n",
    "        key의 타입(자료형)은 정수형으로 의도되었지만 어떤 타입이 들어올지는 자유입니다.\n",
    "        value는 Pandas 타입의 객체입니다.\n",
    "        \"\"\"\n",
    "        return self.__data\n",
    "    \n",
    "    def validate(self, target_properties:list)->object:\n",
    "        \"\"\"\n",
    "        모든 Pandas 데이터가 target_properties에 명시된 속성을 가지고 있는지 확인합니다.\n",
    "        만일, 속성이 매칭되지 않으면 예외가 발생할 것입니다.\n",
    "        모든 과정이 성공하면 True를 반환합니다.\n",
    "        \"\"\"\n",
    "        for data_key, _ in self.__data.items():\n",
    "            self.__data[data_key][target_properties]\n",
    "        return True\n",
    "\n",
    "############################################################################################################\n",
    "import requests\n",
    "import json\n",
    "from pandas import json_normalize\n",
    "\n",
    "class KRXStockCrawler:\n",
    "    \"\"\"\n",
    "    KRX 정보데이터시스템 데이터 크롤링하는 클래스입니다.\n",
    "    주식 관련 지표들을 계산하기 위한 추가 데이터들을 얻는 것이 목적입니다.\n",
    "    \"\"\"\n",
    "    def __init__(self):\n",
    "        self.__url = \"http://data.krx.co.kr/comm/bldAttendant/getJsonData.cmd\"\n",
    "        self.__headers = \"User-Agent: Mozilla/5.0 (Windows NT 10.0; Win64; x64) AppleWebKit/537.36 (KHTML, like Gecko) Chrome/103.0.0.0 Safari/537.36\"\n",
    "        self.__base_data = {\n",
    "            \"bld\": \"dbms/MDC/STAT/standard/MDCSTAT01701\",\n",
    "            \"locale\": \"ko_KR\",\n",
    "            \"param1isuCd_finder_stkisu0_1\": \"ALL\",\n",
    "            \"share\": 1,\n",
    "            \"money\": 1,\n",
    "            \"csvxls_isNo\": \"false\"\n",
    "        }\n",
    "        \n",
    "    def execute(self, code:str, start_date:int, end_date:int)->dict:\n",
    "        \"\"\"\n",
    "        다음 변수들을 기반으로 크롤링하고 그 결과를 딕셔너리 자료구조 형태로 반환합니다.\n",
    "           code        : 종목코드\n",
    "           start_date  : 시작날짜(ex. 20201201)\n",
    "           end_date    : 종료날짜(ex. 20201231)\n",
    "        \"\"\"\n",
    "        query_data = {\n",
    "            \"isuCd\": code,\n",
    "            \"strtDd\": start_date,\n",
    "            \"endDd\": end_date,\n",
    "        }\n",
    "        res = requests.post('http://data.krx.co.kr/comm/bldAttendant/getJsonData.cmd', data=dict(**self.__base_data,**query_data))\n",
    "        dict_json = json.loads(res.text)\n",
    "        return dict_json['output']\n",
    "    \n",
    "############################################################################################################\n",
    "class KRXStockData:\n",
    "    \"\"\"\n",
    "    \n",
    "    \"\"\"\n",
    "    pass\n",
    "    \n",
    "\n",
    "############################################################################################################\n",
    "\n",
    "class DataVisualization:\n",
    "    pass\n",
    "\n",
    "############################################################################################################ㅊ"
   ]
  },
  {
   "cell_type": "markdown",
   "id": "507261c5-6e1a-488c-84a4-1f9bf95afadc",
   "metadata": {},
   "source": [
    "<br><br><br>"
   ]
  },
  {
   "cell_type": "markdown",
   "id": "5d9dc2f1-f4ac-4077-b12d-b8f97e843d38",
   "metadata": {
    "tags": []
   },
   "source": [
    "# [ 4 ] Data Preprocessing"
   ]
  },
  {
   "cell_type": "markdown",
   "id": "55f6fa9d-f006-4688-a398-309294b33708",
   "metadata": {},
   "source": [
    "## 01. 준비 단계"
   ]
  },
  {
   "cell_type": "code",
   "execution_count": 3,
   "id": "d9079989-2cab-47a3-89bf-b372832b7711",
   "metadata": {},
   "outputs": [],
   "source": [
    "# \"종목코드\"를 기준으로 각 CSV 데이터들을 식별하는 용도의 자료구조\n",
    "index_properties:list = dict()"
   ]
  },
  {
   "cell_type": "code",
   "execution_count": 4,
   "id": "536dc721-191d-4b6f-92e7-89d126bde36c",
   "metadata": {},
   "outputs": [],
   "source": [
    "# 데이터 전처리에 필요한 속성들\n",
    "selected_properties = {\n",
    "    'krx':[\"거래일자\",\"종목코드\",\"종목명\", \"시가\", \"고가\", \"저가\", \"종가\", \"거래량\", \"업종구분\", \"PER\", \"상장일\", \"시가총액\"],\n",
    "    'investing.com': [\"날짜\", \"종가\", \"오픈\", \"고가\", \"저가\", \"변동 %\"]\n",
    "}"
   ]
  },
  {
   "cell_type": "markdown",
   "id": "95819504-a684-4eea-b6ef-c786eea8512f",
   "metadata": {
    "tags": []
   },
   "source": [
    "## 01-A. 데이터 수집 및 전처리 단계: `KRX에서 기본적으로 제공받은 CSV`"
   ]
  },
  {
   "cell_type": "code",
   "execution_count": 5,
   "id": "03828f3d-95df-4fd0-81d6-2c6e313d2860",
   "metadata": {
    "tags": []
   },
   "outputs": [],
   "source": [
    "# class<PandasBasedCSVHandler> 인스턴스 생성\n",
    "csv_handler_krx:PandasBasedCSVHandler = PandasBasedCSVHandler(pd)"
   ]
  },
  {
   "cell_type": "markdown",
   "id": "aed72187-d30e-4429-a6dc-3dc3d6caa3d8",
   "metadata": {},
   "source": [
    "### (1) 데이터 경로 및 이름 설정"
   ]
  },
  {
   "cell_type": "code",
   "execution_count": 6,
   "id": "ce716f18-cae7-4125-b978-0bac44033a6d",
   "metadata": {
    "tags": []
   },
   "outputs": [],
   "source": [
    "# CSV 파일 루트 경로\n",
    "root_dir:str = os.path.join(\"..\", \"data\")\n",
    "\n",
    "# CSV 파일 전체 경로 및 이름 형식\n",
    "filepath_form:str = os.path.join(root_dir, \"{0}\",\"{0}_{1}.csv\")\n",
    "\n",
    "# 각 CSV 파일들을 가져오기 위한 프로파일 list<dict[]>\n",
    "csv_file_profiles : list = [\n",
    "    {\n",
    "        \"name\" : \"[유가증권]일별 시세정보(주문번호-1300-27)\",\n",
    "        \"date_range\" : [202001, 202003]\n",
    "    },\n",
    "    {\n",
    "        \"name\" : \"[유가증권]일별 시세정보(주문번호-1300-30)\",\n",
    "        \"date_range\" : [202101, 202103]\n",
    "    },\n",
    "    {\n",
    "        \"name\" : \"[유가증권]일별 시세정보(주문번호-1300-33)\",\n",
    "        \"date_range\" : [202201, 202203]\n",
    "    }\n",
    "]"
   ]
  },
  {
   "cell_type": "markdown",
   "id": "877e2340-60f8-48fe-a0a3-d258ecd0e2ff",
   "metadata": {
    "tags": []
   },
   "source": [
    "### (2) CSV 파일 데이터 불러오기"
   ]
  },
  {
   "cell_type": "code",
   "execution_count": 7,
   "id": "6854e347-35f1-4623-b4d1-616b2812ab1f",
   "metadata": {},
   "outputs": [],
   "source": [
    "# CSV 프로파일 기반으로 class<PandasBasedCSVHandler> 인스턴스에 데이터 병합\n",
    "for csv_file_info in csv_file_profiles: # 프로파일 요소 기반 iteration 작업\n",
    "    for date_num in Utils.generate_int_range(csv_file_info[\"date_range\"][0], csv_file_info[\"date_range\"][1]): # Iterator 생성\n",
    "        csv_handler_krx.take_data_from_CSV_file(\n",
    "            data_id = date_num, # Year + Month 형식의 정수\n",
    "            filepath = filepath_form.format(csv_file_info[\"name\"], date_num), # 폴더를 포함한 전체 경로의 파일명\n",
    "            encoding=\"cp949\" # 파일 인코딩 명시\n",
    "        )"
   ]
  },
  {
   "cell_type": "markdown",
   "id": "840f7739-3d50-4b37-a618-95f9f03d396f",
   "metadata": {
    "tags": []
   },
   "source": [
    "### (3) 데이터 속성 검증하기"
   ]
  },
  {
   "cell_type": "code",
   "execution_count": 8,
   "id": "97088fd5-19cf-45ce-b133-ec5952b0a7f4",
   "metadata": {},
   "outputs": [
    {
     "data": {
      "text/plain": [
       "True"
      ]
     },
     "execution_count": 8,
     "metadata": {},
     "output_type": "execute_result"
    }
   ],
   "source": [
    "# 검증할 속성 내용들은 [1. 데이터 경로 및 이름 설정]의 selected_properties 변수 참고\n",
    "csv_handler_krx.validate(selected_properties['krx'])"
   ]
  },
  {
   "cell_type": "markdown",
   "id": "1006e32e-e441-4ed1-bc4c-04626abb6bdb",
   "metadata": {
    "tags": []
   },
   "source": [
    "### (4) 데이터 정형화"
   ]
  },
  {
   "cell_type": "code",
   "execution_count": 9,
   "id": "6f46a6d8-5645-4526-bdad-417cd2634d30",
   "metadata": {},
   "outputs": [],
   "source": [
    "dataframe_list = csv_handler_krx.get_CSV_data()"
   ]
  },
  {
   "cell_type": "markdown",
   "id": "7982256a-b70e-4d6f-aec2-9e1c65180abe",
   "metadata": {},
   "source": [
    " - 날짜 형식 일치시키기"
   ]
  },
  {
   "cell_type": "code",
   "execution_count": 10,
   "id": "0d0222f9-2447-408e-af87-e4759b26a84a",
   "metadata": {},
   "outputs": [],
   "source": [
    "for df_id in dataframe_list:\n",
    "    dataframe_list[df_id][\"거래일자\"] = pd.to_datetime(dataframe_list[df_id]['거래일자'].astype('str'))  "
   ]
  },
  {
   "cell_type": "markdown",
   "id": "8570cbbe-5958-4ce4-a2a0-18206df638fc",
   "metadata": {
    "tags": []
   },
   "source": [
    "#### - **데이터 형식**\n",
    "\n",
    "```js\n",
    "{\n",
    "    202001 : Pandas,\n",
    "    202002 : Pandas,\n",
    "    202003 : Pandas,\n",
    "    202101 : Pandas,\n",
    "    202102 : Pandas,\n",
    "    202103 : Pandas,\n",
    "    202201 : Pandas,\n",
    "    202202 : Pandas,\n",
    "    202203 : Pandas\n",
    "}\n",
    "```"
   ]
  },
  {
   "cell_type": "markdown",
   "id": "cf764d4e-0578-4d8d-8a51-2508f6a6deae",
   "metadata": {},
   "source": [
    "<br>\n",
    "<br>\n",
    "<br>\n",
    "<br>\n",
    "<br>"
   ]
  },
  {
   "cell_type": "markdown",
   "id": "649344f1-51b1-4fe7-8244-fdb6d7960d44",
   "metadata": {
    "tags": []
   },
   "source": [
    "## 01-B. 데이터 수집 및 전처리 단계: `미국 3년 채권수익률`"
   ]
  },
  {
   "cell_type": "code",
   "execution_count": 11,
   "id": "0560bbe3-d48f-478c-bdb1-5939e5520aa4",
   "metadata": {
    "tags": []
   },
   "outputs": [],
   "source": [
    "# class<PandasBasedCSVHandler> 인스턴스 생성\n",
    "csv_handler_bond:PandasBasedCSVHandler = PandasBasedCSVHandler(pd)"
   ]
  },
  {
   "cell_type": "markdown",
   "id": "158fd29d-535a-4075-9ced-1ac7dad58fc5",
   "metadata": {
    "tags": []
   },
   "source": [
    "### (1) 데이터 경로 및 이름 설정"
   ]
  },
  {
   "cell_type": "code",
   "execution_count": 12,
   "id": "9641f298-cf7e-4a30-ab5d-8fb8775ab8d1",
   "metadata": {
    "tags": []
   },
   "outputs": [],
   "source": [
    "# CSV 파일 루트 경로\n",
    "root_dir:str = os.path.join(\"..\", \"data\")\n",
    "\n",
    "# CSV 파일 전체 경로 및 이름 형식\n",
    "filepath_form:str = os.path.join(root_dir, \"{0}\",\"{1}.csv\")\n",
    "\n",
    "# 각 CSV 파일들을 가져오기 위한 프로파일 list<dict[]>\n",
    "csv_file_profiles : list = [\n",
    "    {\n",
    "        \"name\" : \"미국 3년 채권수익률\",\n",
    "        \"date_range\" : [202001, 202003]\n",
    "    },\n",
    "    {\n",
    "        \"name\" : \"미국 3년 채권수익률\",\n",
    "        \"date_range\" : [202101, 202103]\n",
    "    },\n",
    "    {\n",
    "        \"name\" : \"미국 3년 채권수익률\",\n",
    "        \"date_range\" : [202201, 202203]\n",
    "    }\n",
    "]"
   ]
  },
  {
   "cell_type": "markdown",
   "id": "53d824d9-38be-495c-a715-73454feb7836",
   "metadata": {
    "tags": []
   },
   "source": [
    "### (2) CSV 파일 데이터 불러오기"
   ]
  },
  {
   "cell_type": "code",
   "execution_count": 13,
   "id": "9b2f8797-1b6b-4003-a39f-cb073af970e9",
   "metadata": {},
   "outputs": [],
   "source": [
    "# CSV 프로파일 기반으로 class<PandasBasedCSVHandler> 인스턴스에 데이터 병합\n",
    "for csv_file_info in csv_file_profiles: # 프로파일 요소 기반 iteration 작업\n",
    "    for date_num in Utils.generate_int_range(csv_file_info[\"date_range\"][0], csv_file_info[\"date_range\"][1]): # Iterator 생성\n",
    "        csv_handler_bond.take_data_from_CSV_file(\n",
    "            data_id = date_num, # Year + Month 형식의 정수\n",
    "            filepath = filepath_form.format(csv_file_info[\"name\"], date_num), # 폴더를 포함한 전체 경로의 파일명\n",
    "            encoding=\"cp949\" # 파일 인코딩 명시\n",
    "        )"
   ]
  },
  {
   "cell_type": "markdown",
   "id": "ffd31f45-9ef1-4d56-bf48-abdcf2a34336",
   "metadata": {
    "tags": []
   },
   "source": [
    "### (3) 데이터 속성 검증하기"
   ]
  },
  {
   "cell_type": "code",
   "execution_count": 14,
   "id": "4fa64bce-94f8-49ae-bcc8-95f0a94fb6c9",
   "metadata": {},
   "outputs": [
    {
     "data": {
      "text/plain": [
       "True"
      ]
     },
     "execution_count": 14,
     "metadata": {},
     "output_type": "execute_result"
    }
   ],
   "source": [
    "# 검증할 속성 내용들은 [1. 데이터 경로 및 이름 설정]의 selected_properties 변수 참고\n",
    "csv_handler_bond.validate(selected_properties['investing.com'])"
   ]
  },
  {
   "cell_type": "markdown",
   "id": "2a16925e-6dee-4b1f-9b94-074a21ff2f6f",
   "metadata": {
    "tags": []
   },
   "source": [
    "### (4) 데이터 정형화"
   ]
  },
  {
   "cell_type": "code",
   "execution_count": 15,
   "id": "1910e05b-5bd9-4241-b8eb-7713e1da2b47",
   "metadata": {},
   "outputs": [],
   "source": [
    "dataframe_list = csv_handler_bond.get_CSV_data()"
   ]
  },
  {
   "cell_type": "markdown",
   "id": "f6a33af2-847c-43fa-a3ff-c1d792759115",
   "metadata": {},
   "source": [
    " - 날짜 형식 일치시키기"
   ]
  },
  {
   "cell_type": "code",
   "execution_count": 16,
   "id": "6e499f8c-c46a-493a-9c9b-b388c220dea2",
   "metadata": {},
   "outputs": [],
   "source": [
    "for df_id in dataframe_list:\n",
    "    dataframe_list[df_id]['날짜'] = pd.to_datetime(dataframe_list[df_id]['날짜'], format='%Y년 %m월 %d일')  "
   ]
  },
  {
   "cell_type": "markdown",
   "id": "121d89ab-4993-4ef8-91b0-9daa2032e645",
   "metadata": {},
   "source": [
    " - DataFrame 병합과 데이터 식별을 위해 각 컬럼 이름 바꿔주기"
   ]
  },
  {
   "cell_type": "code",
   "execution_count": 17,
   "id": "da6fc90d-a965-47d2-b70c-313142bc958c",
   "metadata": {},
   "outputs": [],
   "source": [
    "for df_id in dataframe_list:\n",
    "    column_replacer = [\"BOND \" + column_name for column_name in selected_properties['investing.com'] if column_name != \"날짜\"]\n",
    "    column_replacer.insert(0,\"거래일자\")\n",
    "    dataframe_list[df_id].columns = column_replacer"
   ]
  },
  {
   "cell_type": "markdown",
   "id": "97f52a3d-3287-41f4-9c7a-f22e12d854e7",
   "metadata": {},
   "source": [
    " - 날짜를 기준으로 역순으로 배열하기"
   ]
  },
  {
   "cell_type": "code",
   "execution_count": 18,
   "id": "2d18bdbc-6596-476e-9e58-8bea7d85cddb",
   "metadata": {},
   "outputs": [],
   "source": [
    "for df_id in dataframe_list:\n",
    "    dataframe_list[df_id] = pd.concat([dataframe_list[df_id].iloc[::-1]], ignore_index=True) "
   ]
  },
  {
   "cell_type": "markdown",
   "id": "04d2fe52-0e7c-48dc-942e-abd0392fb4ad",
   "metadata": {
    "tags": []
   },
   "source": [
    "#### - **데이터 형식**\n",
    "\n",
    "```js\n",
    "{\n",
    "    202001 : Pandas,\n",
    "    202002 : Pandas,\n",
    "    202003 : Pandas,\n",
    "    202101 : Pandas,\n",
    "    202102 : Pandas,\n",
    "    202103 : Pandas,\n",
    "    202201 : Pandas,\n",
    "    202202 : Pandas,\n",
    "    202203 : Pandas\n",
    "}\n",
    "```"
   ]
  },
  {
   "cell_type": "markdown",
   "id": "86c8dda0-6c35-448d-b54d-27fe2701e400",
   "metadata": {},
   "source": [
    "<br>\n",
    "<br>\n",
    "<br>\n",
    "<br>\n",
    "<br>"
   ]
  },
  {
   "cell_type": "markdown",
   "id": "76e5772f-bf93-49ff-b867-e05d1d4d4c1a",
   "metadata": {
    "tags": []
   },
   "source": [
    "## 01-C. 데이터 수집 및 전처리 단계: `환율 추이`"
   ]
  },
  {
   "cell_type": "code",
   "execution_count": 19,
   "id": "7cdb59bc-d31a-434a-ba4b-e367eb7bacbc",
   "metadata": {
    "tags": []
   },
   "outputs": [],
   "source": [
    "# class<PandasBasedCSVHandler> 인스턴스 생성\n",
    "csv_handler_exchange_rate:PandasBasedCSVHandler = PandasBasedCSVHandler(pd)"
   ]
  },
  {
   "cell_type": "markdown",
   "id": "8447c80f-d49d-4acc-ab00-27dee96a0f26",
   "metadata": {
    "tags": []
   },
   "source": [
    "### (1) 데이터 경로 및 이름 설정"
   ]
  },
  {
   "cell_type": "code",
   "execution_count": 20,
   "id": "ce7f198b-376f-467b-a2ae-edcd6c2d1ed4",
   "metadata": {
    "tags": []
   },
   "outputs": [],
   "source": [
    "# CSV 파일 루트 경로\n",
    "root_dir:str = os.path.join(\"..\", \"data\")\n",
    "\n",
    "# CSV 파일 전체 경로 및 이름 형식\n",
    "filepath_form:str = os.path.join(root_dir, \"{0}\",\"{1}.csv\")\n",
    "\n",
    "# 각 CSV 파일들을 가져오기 위한 프로파일 list<dict[]>\n",
    "csv_file_profiles : list = [\n",
    "    {\n",
    "        \"name\" : \"환율 추이\",\n",
    "        \"date_range\" : [202001, 202003]\n",
    "    },\n",
    "    {\n",
    "        \"name\" : \"환율 추이\",\n",
    "        \"date_range\" : [202101, 202103]\n",
    "    },\n",
    "    {\n",
    "        \"name\" : \"환율 추이\",\n",
    "        \"date_range\" : [202201, 202203]\n",
    "    }\n",
    "]"
   ]
  },
  {
   "cell_type": "markdown",
   "id": "e8b7a921-ddff-4e89-b53e-180ac8394148",
   "metadata": {
    "tags": []
   },
   "source": [
    "### (2) CSV 파일 데이터 불러오기"
   ]
  },
  {
   "cell_type": "code",
   "execution_count": 21,
   "id": "73e3b5a4-9b6c-48ad-b2f5-cf7663ead9e0",
   "metadata": {},
   "outputs": [],
   "source": [
    "# CSV 프로파일 기반으로 class<PandasBasedCSVHandler> 인스턴스에 데이터 병합\n",
    "for csv_file_info in csv_file_profiles: # 프로파일 요소 기반 iteration 작업\n",
    "    for date_num in Utils.generate_int_range(csv_file_info[\"date_range\"][0], csv_file_info[\"date_range\"][1]): # Iterator 생성\n",
    "        csv_handler_exchange_rate.take_data_from_CSV_file(\n",
    "            data_id = date_num, # Year + Month 형식의 정수\n",
    "            filepath = filepath_form.format(csv_file_info[\"name\"], date_num), # 폴더를 포함한 전체 경로의 파일명\n",
    "            encoding=\"cp949\" # 파일 인코딩 명시\n",
    "        )"
   ]
  },
  {
   "cell_type": "markdown",
   "id": "08bc5f3f-2f39-401a-add9-4700b08b518a",
   "metadata": {
    "tags": []
   },
   "source": [
    "### (3) 데이터 속성 검증하기"
   ]
  },
  {
   "cell_type": "code",
   "execution_count": 22,
   "id": "827355f3-4323-4914-83d8-a60a0ba70f45",
   "metadata": {
    "tags": []
   },
   "outputs": [
    {
     "data": {
      "text/plain": [
       "True"
      ]
     },
     "execution_count": 22,
     "metadata": {},
     "output_type": "execute_result"
    }
   ],
   "source": [
    "# 검증할 속성 내용들은 [1. 데이터 경로 및 이름 설정]의 selected_properties 변수 참고\n",
    "csv_handler_exchange_rate.validate(selected_properties['investing.com'])"
   ]
  },
  {
   "cell_type": "markdown",
   "id": "d74ccd7d-17a0-4643-a884-bbccdc3a6ba4",
   "metadata": {
    "tags": []
   },
   "source": [
    "### (4) 데이터 정형화"
   ]
  },
  {
   "cell_type": "code",
   "execution_count": 23,
   "id": "17fad382-79c8-4849-b010-4635d8780569",
   "metadata": {
    "tags": []
   },
   "outputs": [],
   "source": [
    "dataframe_list = csv_handler_exchange_rate.get_CSV_data()"
   ]
  },
  {
   "cell_type": "markdown",
   "id": "c386668b-0c4f-4e05-aa9f-3c327ef130d2",
   "metadata": {},
   "source": [
    " - 날짜 형식 일치시키기"
   ]
  },
  {
   "cell_type": "code",
   "execution_count": 24,
   "id": "0a2f7c99-e124-4924-9d46-bc2980ccc851",
   "metadata": {},
   "outputs": [],
   "source": [
    "for df_id in dataframe_list:\n",
    "    dataframe_list[df_id]['날짜'] = pd.to_datetime(dataframe_list[df_id]['날짜'], format='%Y년 %m월 %d일')  "
   ]
  },
  {
   "cell_type": "markdown",
   "id": "d8d8a3a1-2be5-413d-8a48-ea263acba9dd",
   "metadata": {},
   "source": [
    " - DataFrame 병합과 데이터 식별을 위해 각 컬럼 이름 바꿔주기"
   ]
  },
  {
   "cell_type": "code",
   "execution_count": 25,
   "id": "de81b433-cf95-4614-a8ed-72e714c6d783",
   "metadata": {},
   "outputs": [],
   "source": [
    "for df_id in dataframe_list:\n",
    "    column_replacer = [\"EX_RATE \" + column_name for column_name in selected_properties['investing.com'] if column_name != \"날짜\"]\n",
    "    column_replacer.insert(0,\"거래일자\")\n",
    "    dataframe_list[df_id].columns = column_replacer"
   ]
  },
  {
   "cell_type": "markdown",
   "id": "2e996eff-d4b2-41b6-a3be-bda17c0e22e7",
   "metadata": {},
   "source": [
    " - 날짜를 기준으로 역순으로 배열하기"
   ]
  },
  {
   "cell_type": "code",
   "execution_count": 26,
   "id": "009ae1e0-9bd9-4f5d-8ed1-0edb18b73ecf",
   "metadata": {},
   "outputs": [],
   "source": [
    "for df_id in dataframe_list:\n",
    "    dataframe_list[df_id] = pd.concat([dataframe_list[df_id].iloc[::-1]], ignore_index=True) "
   ]
  },
  {
   "cell_type": "markdown",
   "id": "99b4d611-e489-43b2-80af-ef19a1f5edd7",
   "metadata": {
    "tags": []
   },
   "source": [
    "#### - **데이터 형식**\n",
    "\n",
    "```js\n",
    "{\n",
    "    202001 : Pandas,\n",
    "    202002 : Pandas,\n",
    "    202003 : Pandas,\n",
    "    202101 : Pandas,\n",
    "    202102 : Pandas,\n",
    "    202103 : Pandas,\n",
    "    202201 : Pandas,\n",
    "    202202 : Pandas,\n",
    "    202203 : Pandas\n",
    "}\n",
    "```"
   ]
  },
  {
   "cell_type": "markdown",
   "id": "79f9ed11-fa61-42cd-a326-523b1477734d",
   "metadata": {},
   "source": [
    "<hr>"
   ]
  },
  {
   "cell_type": "markdown",
   "id": "07884c9f-8411-4f2c-a177-5487692333dc",
   "metadata": {
    "tags": []
   },
   "source": [
    "## 02. 수집된 데이터 정리 및 주식 관련 지표 추가"
   ]
  },
  {
   "cell_type": "markdown",
   "id": "b30bcb00-23ae-432f-8b65-3f814349d9f5",
   "metadata": {},
   "source": [
    "### (1) KRX"
   ]
  },
  {
   "cell_type": "code",
   "execution_count": 27,
   "id": "889f94f0-f8ff-4e4b-b51b-3bb867a53308",
   "metadata": {},
   "outputs": [
    {
     "data": {
      "text/html": [
       "<div>\n",
       "<style scoped>\n",
       "    .dataframe tbody tr th:only-of-type {\n",
       "        vertical-align: middle;\n",
       "    }\n",
       "\n",
       "    .dataframe tbody tr th {\n",
       "        vertical-align: top;\n",
       "    }\n",
       "\n",
       "    .dataframe thead th {\n",
       "        text-align: right;\n",
       "    }\n",
       "</style>\n",
       "<table border=\"1\" class=\"dataframe\">\n",
       "  <thead>\n",
       "    <tr style=\"text-align: right;\">\n",
       "      <th></th>\n",
       "      <th>거래일자</th>\n",
       "      <th>종목코드</th>\n",
       "      <th>종목명</th>\n",
       "      <th>시가</th>\n",
       "      <th>고가</th>\n",
       "      <th>저가</th>\n",
       "      <th>종가</th>\n",
       "      <th>거래량</th>\n",
       "      <th>업종구분</th>\n",
       "      <th>PER</th>\n",
       "      <th>상장일</th>\n",
       "      <th>시가총액</th>\n",
       "    </tr>\n",
       "  </thead>\n",
       "  <tbody>\n",
       "    <tr>\n",
       "      <th>0</th>\n",
       "      <td>2020-01-02</td>\n",
       "      <td>KR7000020008</td>\n",
       "      <td>동화약품보통주</td>\n",
       "      <td>8340</td>\n",
       "      <td>8400</td>\n",
       "      <td>8290</td>\n",
       "      <td>8400</td>\n",
       "      <td>111305</td>\n",
       "      <td>의약품 제조업</td>\n",
       "      <td>23.01</td>\n",
       "      <td>19760324</td>\n",
       "      <td>234624348000</td>\n",
       "    </tr>\n",
       "    <tr>\n",
       "      <th>1</th>\n",
       "      <td>2020-01-03</td>\n",
       "      <td>KR7000020008</td>\n",
       "      <td>동화약품보통주</td>\n",
       "      <td>8400</td>\n",
       "      <td>8450</td>\n",
       "      <td>8290</td>\n",
       "      <td>8360</td>\n",
       "      <td>96437</td>\n",
       "      <td>의약품 제조업</td>\n",
       "      <td>22.9</td>\n",
       "      <td>19760324</td>\n",
       "      <td>233507089200</td>\n",
       "    </tr>\n",
       "    <tr>\n",
       "      <th>2</th>\n",
       "      <td>2020-01-06</td>\n",
       "      <td>KR7000020008</td>\n",
       "      <td>동화약품보통주</td>\n",
       "      <td>8290</td>\n",
       "      <td>8330</td>\n",
       "      <td>8120</td>\n",
       "      <td>8180</td>\n",
       "      <td>73230</td>\n",
       "      <td>의약품 제조업</td>\n",
       "      <td>22.41</td>\n",
       "      <td>19760324</td>\n",
       "      <td>228479424600</td>\n",
       "    </tr>\n",
       "    <tr>\n",
       "      <th>3</th>\n",
       "      <td>2020-01-07</td>\n",
       "      <td>KR7000020008</td>\n",
       "      <td>동화약품보통주</td>\n",
       "      <td>8200</td>\n",
       "      <td>8280</td>\n",
       "      <td>8090</td>\n",
       "      <td>8160</td>\n",
       "      <td>117904</td>\n",
       "      <td>의약품 제조업</td>\n",
       "      <td>22.36</td>\n",
       "      <td>19760324</td>\n",
       "      <td>227920795200</td>\n",
       "    </tr>\n",
       "    <tr>\n",
       "      <th>4</th>\n",
       "      <td>2020-01-08</td>\n",
       "      <td>KR7000020008</td>\n",
       "      <td>동화약품보통주</td>\n",
       "      <td>8170</td>\n",
       "      <td>8170</td>\n",
       "      <td>7830</td>\n",
       "      <td>7930</td>\n",
       "      <td>263246</td>\n",
       "      <td>의약품 제조업</td>\n",
       "      <td>21.73</td>\n",
       "      <td>19760324</td>\n",
       "      <td>221496557100</td>\n",
       "    </tr>\n",
       "  </tbody>\n",
       "</table>\n",
       "</div>"
      ],
      "text/plain": [
       "        거래일자          종목코드      종목명    시가    고가    저가    종가     거래량     업종구분  \\\n",
       "0 2020-01-02  KR7000020008  동화약품보통주  8340  8400  8290  8400  111305  의약품 제조업   \n",
       "1 2020-01-03  KR7000020008  동화약품보통주  8400  8450  8290  8360   96437  의약품 제조업   \n",
       "2 2020-01-06  KR7000020008  동화약품보통주  8290  8330  8120  8180   73230  의약품 제조업   \n",
       "3 2020-01-07  KR7000020008  동화약품보통주  8200  8280  8090  8160  117904  의약품 제조업   \n",
       "4 2020-01-08  KR7000020008  동화약품보통주  8170  8170  7830  7930  263246  의약품 제조업   \n",
       "\n",
       "     PER       상장일          시가총액  \n",
       "0  23.01  19760324  234624348000  \n",
       "1   22.9  19760324  233507089200  \n",
       "2  22.41  19760324  228479424600  \n",
       "3  22.36  19760324  227920795200  \n",
       "4  21.73  19760324  221496557100  "
      ]
     },
     "execution_count": 27,
     "metadata": {},
     "output_type": "execute_result"
    }
   ],
   "source": [
    "krx_data = Utils.clone(csv_handler_krx.get_CSV_data())\n",
    "krx_data[202001][selected_properties['krx']].head()"
   ]
  },
  {
   "cell_type": "markdown",
   "id": "f23684fe-7579-4ef3-b9f0-bcb5bca071c7",
   "metadata": {},
   "source": [
    "### (2) Investing (미국 3년 채권수익률)"
   ]
  },
  {
   "cell_type": "code",
   "execution_count": 28,
   "id": "2d5494ae-9d5e-4eb3-a939-0e63a3839cd3",
   "metadata": {},
   "outputs": [
    {
     "data": {
      "text/html": [
       "<div>\n",
       "<style scoped>\n",
       "    .dataframe tbody tr th:only-of-type {\n",
       "        vertical-align: middle;\n",
       "    }\n",
       "\n",
       "    .dataframe tbody tr th {\n",
       "        vertical-align: top;\n",
       "    }\n",
       "\n",
       "    .dataframe thead th {\n",
       "        text-align: right;\n",
       "    }\n",
       "</style>\n",
       "<table border=\"1\" class=\"dataframe\">\n",
       "  <thead>\n",
       "    <tr style=\"text-align: right;\">\n",
       "      <th></th>\n",
       "      <th>거래일자</th>\n",
       "      <th>BOND 종가</th>\n",
       "      <th>BOND 오픈</th>\n",
       "      <th>BOND 고가</th>\n",
       "      <th>BOND 저가</th>\n",
       "      <th>BOND 변동 %</th>\n",
       "    </tr>\n",
       "  </thead>\n",
       "  <tbody>\n",
       "    <tr>\n",
       "      <th>0</th>\n",
       "      <td>2020-01-01</td>\n",
       "      <td>1.6086</td>\n",
       "      <td>1.6086</td>\n",
       "      <td>1.6086</td>\n",
       "      <td>1.6086</td>\n",
       "      <td>0.00%</td>\n",
       "    </tr>\n",
       "    <tr>\n",
       "      <th>1</th>\n",
       "      <td>2020-01-02</td>\n",
       "      <td>1.5950</td>\n",
       "      <td>1.6140</td>\n",
       "      <td>1.6250</td>\n",
       "      <td>1.5650</td>\n",
       "      <td>-0.85%</td>\n",
       "    </tr>\n",
       "    <tr>\n",
       "      <th>2</th>\n",
       "      <td>2020-01-03</td>\n",
       "      <td>1.5457</td>\n",
       "      <td>1.5620</td>\n",
       "      <td>1.5730</td>\n",
       "      <td>1.5240</td>\n",
       "      <td>-3.09%</td>\n",
       "    </tr>\n",
       "    <tr>\n",
       "      <th>3</th>\n",
       "      <td>2020-01-05</td>\n",
       "      <td>1.5240</td>\n",
       "      <td>1.5267</td>\n",
       "      <td>1.5267</td>\n",
       "      <td>1.5240</td>\n",
       "      <td>-1.40%</td>\n",
       "    </tr>\n",
       "    <tr>\n",
       "      <th>4</th>\n",
       "      <td>2020-01-06</td>\n",
       "      <td>1.5593</td>\n",
       "      <td>1.5270</td>\n",
       "      <td>1.5760</td>\n",
       "      <td>1.5160</td>\n",
       "      <td>2.32%</td>\n",
       "    </tr>\n",
       "  </tbody>\n",
       "</table>\n",
       "</div>"
      ],
      "text/plain": [
       "        거래일자  BOND 종가  BOND 오픈  BOND 고가  BOND 저가 BOND 변동 %\n",
       "0 2020-01-01   1.6086   1.6086   1.6086   1.6086     0.00%\n",
       "1 2020-01-02   1.5950   1.6140   1.6250   1.5650    -0.85%\n",
       "2 2020-01-03   1.5457   1.5620   1.5730   1.5240    -3.09%\n",
       "3 2020-01-05   1.5240   1.5267   1.5267   1.5240    -1.40%\n",
       "4 2020-01-06   1.5593   1.5270   1.5760   1.5160     2.32%"
      ]
     },
     "execution_count": 28,
     "metadata": {},
     "output_type": "execute_result"
    }
   ],
   "source": [
    "bond_data = Utils.clone(csv_handler_bond.get_CSV_data())\n",
    "bond_data[202001].head()"
   ]
  },
  {
   "cell_type": "markdown",
   "id": "1c5a5562-b9eb-4c50-8c45-4af90db06469",
   "metadata": {},
   "source": [
    "### (3) Investing (환율)"
   ]
  },
  {
   "cell_type": "code",
   "execution_count": 29,
   "id": "98206c9a-d42d-407a-9239-de85279ad999",
   "metadata": {},
   "outputs": [
    {
     "data": {
      "text/html": [
       "<div>\n",
       "<style scoped>\n",
       "    .dataframe tbody tr th:only-of-type {\n",
       "        vertical-align: middle;\n",
       "    }\n",
       "\n",
       "    .dataframe tbody tr th {\n",
       "        vertical-align: top;\n",
       "    }\n",
       "\n",
       "    .dataframe thead th {\n",
       "        text-align: right;\n",
       "    }\n",
       "</style>\n",
       "<table border=\"1\" class=\"dataframe\">\n",
       "  <thead>\n",
       "    <tr style=\"text-align: right;\">\n",
       "      <th></th>\n",
       "      <th>거래일자</th>\n",
       "      <th>EX_RATE 종가</th>\n",
       "      <th>EX_RATE 오픈</th>\n",
       "      <th>EX_RATE 고가</th>\n",
       "      <th>EX_RATE 저가</th>\n",
       "      <th>EX_RATE 변동 %</th>\n",
       "    </tr>\n",
       "  </thead>\n",
       "  <tbody>\n",
       "    <tr>\n",
       "      <th>0</th>\n",
       "      <td>2020-01-01</td>\n",
       "      <td>1,154.02</td>\n",
       "      <td>1,155.07</td>\n",
       "      <td>1,155.32</td>\n",
       "      <td>1,154.08</td>\n",
       "      <td>0.00%</td>\n",
       "    </tr>\n",
       "    <tr>\n",
       "      <th>1</th>\n",
       "      <td>2020-01-02</td>\n",
       "      <td>1,157.35</td>\n",
       "      <td>1,155.02</td>\n",
       "      <td>1,161.15</td>\n",
       "      <td>1,153.48</td>\n",
       "      <td>0.29%</td>\n",
       "    </tr>\n",
       "    <tr>\n",
       "      <th>2</th>\n",
       "      <td>2020-01-03</td>\n",
       "      <td>1,164.95</td>\n",
       "      <td>1,157.94</td>\n",
       "      <td>1,168.83</td>\n",
       "      <td>1,155.70</td>\n",
       "      <td>0.66%</td>\n",
       "    </tr>\n",
       "    <tr>\n",
       "      <th>3</th>\n",
       "      <td>2020-01-06</td>\n",
       "      <td>1,166.94</td>\n",
       "      <td>1,165.89</td>\n",
       "      <td>1,172.99</td>\n",
       "      <td>1,165.78</td>\n",
       "      <td>0.17%</td>\n",
       "    </tr>\n",
       "    <tr>\n",
       "      <th>4</th>\n",
       "      <td>2020-01-07</td>\n",
       "      <td>1,167.30</td>\n",
       "      <td>1,167.54</td>\n",
       "      <td>1,168.82</td>\n",
       "      <td>1,163.11</td>\n",
       "      <td>0.03%</td>\n",
       "    </tr>\n",
       "  </tbody>\n",
       "</table>\n",
       "</div>"
      ],
      "text/plain": [
       "        거래일자 EX_RATE 종가 EX_RATE 오픈 EX_RATE 고가 EX_RATE 저가 EX_RATE 변동 %\n",
       "0 2020-01-01   1,154.02   1,155.07   1,155.32   1,154.08        0.00%\n",
       "1 2020-01-02   1,157.35   1,155.02   1,161.15   1,153.48        0.29%\n",
       "2 2020-01-03   1,164.95   1,157.94   1,168.83   1,155.70        0.66%\n",
       "3 2020-01-06   1,166.94   1,165.89   1,172.99   1,165.78        0.17%\n",
       "4 2020-01-07   1,167.30   1,167.54   1,168.82   1,163.11        0.03%"
      ]
     },
     "execution_count": 29,
     "metadata": {},
     "output_type": "execute_result"
    }
   ],
   "source": [
    "exchange_rate_data = Utils.clone(csv_handler_exchange_rate.get_CSV_data())\n",
    "exchange_rate_data[202001].head()"
   ]
  },
  {
   "cell_type": "markdown",
   "id": "0e56b0be-6042-458b-b45c-d9c33e51a3d2",
   "metadata": {
    "tags": []
   },
   "source": [
    "#### - 전처리 결과 변수\n",
    "\n",
    "| Variable Name | Description |\n",
    "|:---:|:---:|\n",
    "|`krx_data`| KRX 유가증권 CSV 데이터 모음|\n",
    "|`bond_data`| Investing.com 미국 3년 채권수익률|\n",
    "|`exchange_rate_data`| Investing.com 환율 추이|"
   ]
  },
  {
   "cell_type": "markdown",
   "id": "cd14a326-bd08-4211-acda-daf4f2969d3a",
   "metadata": {},
   "source": [
    "## 03. 데이터 병합"
   ]
  },
  {
   "cell_type": "code",
   "execution_count": 30,
   "id": "b46ef769-2fe1-4da3-99d5-6bb2d3aa2647",
   "metadata": {},
   "outputs": [],
   "source": [
    "target_years = [\n",
    "    list(Utils.generate_int_range(202001, 202003)),\n",
    "    list(Utils.generate_int_range(202101, 202103)),\n",
    "    list(Utils.generate_int_range(202201, 202203))\n",
    "]"
   ]
  },
  {
   "cell_type": "code",
   "execution_count": 31,
   "id": "48186e83-4bfc-4aed-91af-5fafbd2f0454",
   "metadata": {},
   "outputs": [],
   "source": [
    "total_data = dict()\n",
    "\n",
    "for year_id in Utils.flatten(target_years):\n",
    "    exchange_rate_and_bond = exchange_rate_data[year_id].merge(bond_data[year_id])\n",
    "    krx_and_exchange_rate_and_bond = krx_data[year_id][selected_properties['krx']].merge(exchange_rate_and_bond, on='거래일자')\n",
    "    total_data[year_id] = krx_and_exchange_rate_and_bond"
   ]
  },
  {
   "cell_type": "code",
   "execution_count": 32,
   "id": "df3dacc0-caff-49d9-a03f-5af07407540c",
   "metadata": {},
   "outputs": [
    {
     "data": {
      "text/plain": [
       "9"
      ]
     },
     "execution_count": 32,
     "metadata": {},
     "output_type": "execute_result"
    }
   ],
   "source": [
    "len(total_data)"
   ]
  },
  {
   "cell_type": "markdown",
   "id": "00b532a6-5946-413f-84bf-ae002a1f5f11",
   "metadata": {},
   "source": [
    " - 테스트: **`2020년 01월`** 에 대한 특정 종목을 통한 병합 확인"
   ]
  },
  {
   "cell_type": "code",
   "execution_count": 33,
   "id": "b040903e-1421-49fc-81e0-7a93790ee3f6",
   "metadata": {},
   "outputs": [
    {
     "data": {
      "text/html": [
       "<div>\n",
       "<style scoped>\n",
       "    .dataframe tbody tr th:only-of-type {\n",
       "        vertical-align: middle;\n",
       "    }\n",
       "\n",
       "    .dataframe tbody tr th {\n",
       "        vertical-align: top;\n",
       "    }\n",
       "\n",
       "    .dataframe thead th {\n",
       "        text-align: right;\n",
       "    }\n",
       "</style>\n",
       "<table border=\"1\" class=\"dataframe\">\n",
       "  <thead>\n",
       "    <tr style=\"text-align: right;\">\n",
       "      <th></th>\n",
       "      <th>거래일자</th>\n",
       "      <th>종목코드</th>\n",
       "      <th>종목명</th>\n",
       "      <th>시가</th>\n",
       "      <th>고가</th>\n",
       "      <th>저가</th>\n",
       "      <th>종가</th>\n",
       "      <th>거래량</th>\n",
       "      <th>업종구분</th>\n",
       "      <th>PER</th>\n",
       "      <th>...</th>\n",
       "      <th>EX_RATE 종가</th>\n",
       "      <th>EX_RATE 오픈</th>\n",
       "      <th>EX_RATE 고가</th>\n",
       "      <th>EX_RATE 저가</th>\n",
       "      <th>EX_RATE 변동 %</th>\n",
       "      <th>BOND 종가</th>\n",
       "      <th>BOND 오픈</th>\n",
       "      <th>BOND 고가</th>\n",
       "      <th>BOND 저가</th>\n",
       "      <th>BOND 변동 %</th>\n",
       "    </tr>\n",
       "  </thead>\n",
       "  <tbody>\n",
       "    <tr>\n",
       "      <th>0</th>\n",
       "      <td>2020-01-02</td>\n",
       "      <td>KR7000020008</td>\n",
       "      <td>동화약품보통주</td>\n",
       "      <td>8340</td>\n",
       "      <td>8400</td>\n",
       "      <td>8290</td>\n",
       "      <td>8400</td>\n",
       "      <td>111305</td>\n",
       "      <td>의약품 제조업</td>\n",
       "      <td>23.01</td>\n",
       "      <td>...</td>\n",
       "      <td>1,157.35</td>\n",
       "      <td>1,155.02</td>\n",
       "      <td>1,161.15</td>\n",
       "      <td>1,153.48</td>\n",
       "      <td>0.29%</td>\n",
       "      <td>1.5950</td>\n",
       "      <td>1.6140</td>\n",
       "      <td>1.6250</td>\n",
       "      <td>1.5650</td>\n",
       "      <td>-0.85%</td>\n",
       "    </tr>\n",
       "    <tr>\n",
       "      <th>916</th>\n",
       "      <td>2020-01-03</td>\n",
       "      <td>KR7000020008</td>\n",
       "      <td>동화약품보통주</td>\n",
       "      <td>8400</td>\n",
       "      <td>8450</td>\n",
       "      <td>8290</td>\n",
       "      <td>8360</td>\n",
       "      <td>96437</td>\n",
       "      <td>의약품 제조업</td>\n",
       "      <td>22.9</td>\n",
       "      <td>...</td>\n",
       "      <td>1,164.95</td>\n",
       "      <td>1,157.94</td>\n",
       "      <td>1,168.83</td>\n",
       "      <td>1,155.70</td>\n",
       "      <td>0.66%</td>\n",
       "      <td>1.5457</td>\n",
       "      <td>1.5620</td>\n",
       "      <td>1.5730</td>\n",
       "      <td>1.5240</td>\n",
       "      <td>-3.09%</td>\n",
       "    </tr>\n",
       "    <tr>\n",
       "      <th>1832</th>\n",
       "      <td>2020-01-06</td>\n",
       "      <td>KR7000020008</td>\n",
       "      <td>동화약품보통주</td>\n",
       "      <td>8290</td>\n",
       "      <td>8330</td>\n",
       "      <td>8120</td>\n",
       "      <td>8180</td>\n",
       "      <td>73230</td>\n",
       "      <td>의약품 제조업</td>\n",
       "      <td>22.41</td>\n",
       "      <td>...</td>\n",
       "      <td>1,166.94</td>\n",
       "      <td>1,165.89</td>\n",
       "      <td>1,172.99</td>\n",
       "      <td>1,165.78</td>\n",
       "      <td>0.17%</td>\n",
       "      <td>1.5593</td>\n",
       "      <td>1.5270</td>\n",
       "      <td>1.5760</td>\n",
       "      <td>1.5160</td>\n",
       "      <td>2.32%</td>\n",
       "    </tr>\n",
       "    <tr>\n",
       "      <th>2748</th>\n",
       "      <td>2020-01-07</td>\n",
       "      <td>KR7000020008</td>\n",
       "      <td>동화약품보통주</td>\n",
       "      <td>8200</td>\n",
       "      <td>8280</td>\n",
       "      <td>8090</td>\n",
       "      <td>8160</td>\n",
       "      <td>117904</td>\n",
       "      <td>의약품 제조업</td>\n",
       "      <td>22.36</td>\n",
       "      <td>...</td>\n",
       "      <td>1,167.30</td>\n",
       "      <td>1,167.54</td>\n",
       "      <td>1,168.82</td>\n",
       "      <td>1,163.11</td>\n",
       "      <td>0.03%</td>\n",
       "      <td>1.5511</td>\n",
       "      <td>1.5620</td>\n",
       "      <td>1.5700</td>\n",
       "      <td>1.5460</td>\n",
       "      <td>-0.53%</td>\n",
       "    </tr>\n",
       "    <tr>\n",
       "      <th>3664</th>\n",
       "      <td>2020-01-08</td>\n",
       "      <td>KR7000020008</td>\n",
       "      <td>동화약품보통주</td>\n",
       "      <td>8170</td>\n",
       "      <td>8170</td>\n",
       "      <td>7830</td>\n",
       "      <td>7930</td>\n",
       "      <td>263246</td>\n",
       "      <td>의약품 제조업</td>\n",
       "      <td>21.73</td>\n",
       "      <td>...</td>\n",
       "      <td>1,162.25</td>\n",
       "      <td>1,168.30</td>\n",
       "      <td>1,179.67</td>\n",
       "      <td>1,160.50</td>\n",
       "      <td>-0.43%</td>\n",
       "      <td>1.6071</td>\n",
       "      <td>1.5080</td>\n",
       "      <td>1.6370</td>\n",
       "      <td>1.4680</td>\n",
       "      <td>3.61%</td>\n",
       "    </tr>\n",
       "    <tr>\n",
       "      <th>4580</th>\n",
       "      <td>2020-01-09</td>\n",
       "      <td>KR7000020008</td>\n",
       "      <td>동화약품보통주</td>\n",
       "      <td>8020</td>\n",
       "      <td>8060</td>\n",
       "      <td>7900</td>\n",
       "      <td>7900</td>\n",
       "      <td>50346</td>\n",
       "      <td>의약품 제조업</td>\n",
       "      <td>21.64</td>\n",
       "      <td>...</td>\n",
       "      <td>1,158.72</td>\n",
       "      <td>1,162.49</td>\n",
       "      <td>1,163.55</td>\n",
       "      <td>1,157.41</td>\n",
       "      <td>-0.30%</td>\n",
       "      <td>1.5964</td>\n",
       "      <td>1.6040</td>\n",
       "      <td>1.6310</td>\n",
       "      <td>1.5910</td>\n",
       "      <td>-0.67%</td>\n",
       "    </tr>\n",
       "    <tr>\n",
       "      <th>5496</th>\n",
       "      <td>2020-01-10</td>\n",
       "      <td>KR7000020008</td>\n",
       "      <td>동화약품보통주</td>\n",
       "      <td>7970</td>\n",
       "      <td>8140</td>\n",
       "      <td>7880</td>\n",
       "      <td>8100</td>\n",
       "      <td>77059</td>\n",
       "      <td>의약품 제조업</td>\n",
       "      <td>22.19</td>\n",
       "      <td>...</td>\n",
       "      <td>1,157.97</td>\n",
       "      <td>1,159.73</td>\n",
       "      <td>1,164.16</td>\n",
       "      <td>1,157.55</td>\n",
       "      <td>-0.06%</td>\n",
       "      <td>1.5857</td>\n",
       "      <td>1.5990</td>\n",
       "      <td>1.6120</td>\n",
       "      <td>1.5750</td>\n",
       "      <td>-0.67%</td>\n",
       "    </tr>\n",
       "    <tr>\n",
       "      <th>6412</th>\n",
       "      <td>2020-01-13</td>\n",
       "      <td>KR7000020008</td>\n",
       "      <td>동화약품보통주</td>\n",
       "      <td>8140</td>\n",
       "      <td>8250</td>\n",
       "      <td>8070</td>\n",
       "      <td>8220</td>\n",
       "      <td>91646</td>\n",
       "      <td>의약품 제조업</td>\n",
       "      <td>22.52</td>\n",
       "      <td>...</td>\n",
       "      <td>1,153.95</td>\n",
       "      <td>1,158.92</td>\n",
       "      <td>1,159.57</td>\n",
       "      <td>1,153.13</td>\n",
       "      <td>-0.35%</td>\n",
       "      <td>1.6018</td>\n",
       "      <td>1.6260</td>\n",
       "      <td>1.6260</td>\n",
       "      <td>1.5880</td>\n",
       "      <td>1.02%</td>\n",
       "    </tr>\n",
       "    <tr>\n",
       "      <th>7328</th>\n",
       "      <td>2020-01-14</td>\n",
       "      <td>KR7000020008</td>\n",
       "      <td>동화약품보통주</td>\n",
       "      <td>8240</td>\n",
       "      <td>8240</td>\n",
       "      <td>8070</td>\n",
       "      <td>8140</td>\n",
       "      <td>100901</td>\n",
       "      <td>의약품 제조업</td>\n",
       "      <td>22.3</td>\n",
       "      <td>...</td>\n",
       "      <td>1,157.20</td>\n",
       "      <td>1,154.95</td>\n",
       "      <td>1,159.66</td>\n",
       "      <td>1,150.30</td>\n",
       "      <td>0.28%</td>\n",
       "      <td>1.5803</td>\n",
       "      <td>1.6020</td>\n",
       "      <td>1.6120</td>\n",
       "      <td>1.5750</td>\n",
       "      <td>-1.34%</td>\n",
       "    </tr>\n",
       "    <tr>\n",
       "      <th>8244</th>\n",
       "      <td>2020-01-15</td>\n",
       "      <td>KR7000020008</td>\n",
       "      <td>동화약품보통주</td>\n",
       "      <td>8160</td>\n",
       "      <td>8170</td>\n",
       "      <td>8000</td>\n",
       "      <td>8090</td>\n",
       "      <td>72255</td>\n",
       "      <td>의약품 제조업</td>\n",
       "      <td>22.16</td>\n",
       "      <td>...</td>\n",
       "      <td>1,157.91</td>\n",
       "      <td>1,158.20</td>\n",
       "      <td>1,162.80</td>\n",
       "      <td>1,155.85</td>\n",
       "      <td>0.06%</td>\n",
       "      <td>1.5643</td>\n",
       "      <td>1.5780</td>\n",
       "      <td>1.5860</td>\n",
       "      <td>1.5590</td>\n",
       "      <td>-1.01%</td>\n",
       "    </tr>\n",
       "    <tr>\n",
       "      <th>9160</th>\n",
       "      <td>2020-01-16</td>\n",
       "      <td>KR7000020008</td>\n",
       "      <td>동화약품보통주</td>\n",
       "      <td>8140</td>\n",
       "      <td>8140</td>\n",
       "      <td>8030</td>\n",
       "      <td>8030</td>\n",
       "      <td>80537</td>\n",
       "      <td>의약품 제조업</td>\n",
       "      <td>22</td>\n",
       "      <td>...</td>\n",
       "      <td>1,159.73</td>\n",
       "      <td>1,158.91</td>\n",
       "      <td>1,161.97</td>\n",
       "      <td>1,156.50</td>\n",
       "      <td>0.16%</td>\n",
       "      <td>1.5778</td>\n",
       "      <td>1.5670</td>\n",
       "      <td>1.5910</td>\n",
       "      <td>1.5560</td>\n",
       "      <td>0.86%</td>\n",
       "    </tr>\n",
       "    <tr>\n",
       "      <th>10076</th>\n",
       "      <td>2020-01-17</td>\n",
       "      <td>KR7000020008</td>\n",
       "      <td>동화약품보통주</td>\n",
       "      <td>8040</td>\n",
       "      <td>8130</td>\n",
       "      <td>8030</td>\n",
       "      <td>8110</td>\n",
       "      <td>47098</td>\n",
       "      <td>의약품 제조업</td>\n",
       "      <td>22.22</td>\n",
       "      <td>...</td>\n",
       "      <td>1,160.44</td>\n",
       "      <td>1,160.73</td>\n",
       "      <td>1,161.93</td>\n",
       "      <td>1,155.97</td>\n",
       "      <td>0.06%</td>\n",
       "      <td>1.5753</td>\n",
       "      <td>1.5720</td>\n",
       "      <td>1.5970</td>\n",
       "      <td>1.5620</td>\n",
       "      <td>-0.16%</td>\n",
       "    </tr>\n",
       "    <tr>\n",
       "      <th>10992</th>\n",
       "      <td>2020-01-20</td>\n",
       "      <td>KR7000020008</td>\n",
       "      <td>동화약품보통주</td>\n",
       "      <td>8140</td>\n",
       "      <td>8340</td>\n",
       "      <td>8100</td>\n",
       "      <td>8240</td>\n",
       "      <td>205611</td>\n",
       "      <td>의약품 제조업</td>\n",
       "      <td>22.58</td>\n",
       "      <td>...</td>\n",
       "      <td>1,158.61</td>\n",
       "      <td>1,161.46</td>\n",
       "      <td>1,162.20</td>\n",
       "      <td>1,155.87</td>\n",
       "      <td>-0.16%</td>\n",
       "      <td>1.5699</td>\n",
       "      <td>1.5753</td>\n",
       "      <td>1.5753</td>\n",
       "      <td>1.5699</td>\n",
       "      <td>-0.34%</td>\n",
       "    </tr>\n",
       "    <tr>\n",
       "      <th>11908</th>\n",
       "      <td>2020-01-21</td>\n",
       "      <td>KR7000020008</td>\n",
       "      <td>동화약품보통주</td>\n",
       "      <td>8250</td>\n",
       "      <td>8280</td>\n",
       "      <td>8080</td>\n",
       "      <td>8130</td>\n",
       "      <td>161270</td>\n",
       "      <td>의약품 제조업</td>\n",
       "      <td>22.27</td>\n",
       "      <td>...</td>\n",
       "      <td>1,169.01</td>\n",
       "      <td>1,159.61</td>\n",
       "      <td>1,170.77</td>\n",
       "      <td>1,157.94</td>\n",
       "      <td>0.90%</td>\n",
       "      <td>1.5322</td>\n",
       "      <td>1.5730</td>\n",
       "      <td>1.5730</td>\n",
       "      <td>1.5240</td>\n",
       "      <td>-2.40%</td>\n",
       "    </tr>\n",
       "    <tr>\n",
       "      <th>12825</th>\n",
       "      <td>2020-01-22</td>\n",
       "      <td>KR7000020008</td>\n",
       "      <td>동화약품보통주</td>\n",
       "      <td>8160</td>\n",
       "      <td>8470</td>\n",
       "      <td>8160</td>\n",
       "      <td>8290</td>\n",
       "      <td>251732</td>\n",
       "      <td>의약품 제조업</td>\n",
       "      <td>22.71</td>\n",
       "      <td>...</td>\n",
       "      <td>1,164.76</td>\n",
       "      <td>1,170.01</td>\n",
       "      <td>1,170.20</td>\n",
       "      <td>1,162.02</td>\n",
       "      <td>-0.36%</td>\n",
       "      <td>1.5296</td>\n",
       "      <td>1.5430</td>\n",
       "      <td>1.5510</td>\n",
       "      <td>1.5240</td>\n",
       "      <td>-0.17%</td>\n",
       "    </tr>\n",
       "    <tr>\n",
       "      <th>13742</th>\n",
       "      <td>2020-01-23</td>\n",
       "      <td>KR7000020008</td>\n",
       "      <td>동화약품보통주</td>\n",
       "      <td>8390</td>\n",
       "      <td>8410</td>\n",
       "      <td>8290</td>\n",
       "      <td>8350</td>\n",
       "      <td>90264</td>\n",
       "      <td>의약품 제조업</td>\n",
       "      <td>22.88</td>\n",
       "      <td>...</td>\n",
       "      <td>1,168.54</td>\n",
       "      <td>1,165.76</td>\n",
       "      <td>1,170.77</td>\n",
       "      <td>1,164.29</td>\n",
       "      <td>0.32%</td>\n",
       "      <td>1.5053</td>\n",
       "      <td>1.5270</td>\n",
       "      <td>1.5270</td>\n",
       "      <td>1.4840</td>\n",
       "      <td>-1.59%</td>\n",
       "    </tr>\n",
       "    <tr>\n",
       "      <th>14659</th>\n",
       "      <td>2020-01-28</td>\n",
       "      <td>KR7000020008</td>\n",
       "      <td>동화약품보통주</td>\n",
       "      <td>8400</td>\n",
       "      <td>8960</td>\n",
       "      <td>8290</td>\n",
       "      <td>8590</td>\n",
       "      <td>915591</td>\n",
       "      <td>의약품 제조업</td>\n",
       "      <td>23.53</td>\n",
       "      <td>...</td>\n",
       "      <td>1,175.71</td>\n",
       "      <td>1,177.70</td>\n",
       "      <td>1,181.88</td>\n",
       "      <td>1,174.96</td>\n",
       "      <td>-0.08%</td>\n",
       "      <td>1.4594</td>\n",
       "      <td>1.4190</td>\n",
       "      <td>1.4620</td>\n",
       "      <td>1.3810</td>\n",
       "      <td>2.85%</td>\n",
       "    </tr>\n",
       "    <tr>\n",
       "      <th>15576</th>\n",
       "      <td>2020-01-29</td>\n",
       "      <td>KR7000020008</td>\n",
       "      <td>동화약품보통주</td>\n",
       "      <td>8640</td>\n",
       "      <td>8690</td>\n",
       "      <td>8110</td>\n",
       "      <td>8150</td>\n",
       "      <td>370187</td>\n",
       "      <td>의약품 제조업</td>\n",
       "      <td>22.33</td>\n",
       "      <td>...</td>\n",
       "      <td>1,178.68</td>\n",
       "      <td>1,176.21</td>\n",
       "      <td>1,180.43</td>\n",
       "      <td>1,173.73</td>\n",
       "      <td>0.25%</td>\n",
       "      <td>1.3918</td>\n",
       "      <td>1.4510</td>\n",
       "      <td>1.4620</td>\n",
       "      <td>1.3890</td>\n",
       "      <td>-4.63%</td>\n",
       "    </tr>\n",
       "    <tr>\n",
       "      <th>16493</th>\n",
       "      <td>2020-01-30</td>\n",
       "      <td>KR7000020008</td>\n",
       "      <td>동화약품보통주</td>\n",
       "      <td>8180</td>\n",
       "      <td>8260</td>\n",
       "      <td>7990</td>\n",
       "      <td>8000</td>\n",
       "      <td>239447</td>\n",
       "      <td>의약품 제조업</td>\n",
       "      <td>21.92</td>\n",
       "      <td>...</td>\n",
       "      <td>1,187.64</td>\n",
       "      <td>1,179.68</td>\n",
       "      <td>1,193.67</td>\n",
       "      <td>1,178.22</td>\n",
       "      <td>0.76%</td>\n",
       "      <td>1.3944</td>\n",
       "      <td>1.3950</td>\n",
       "      <td>1.3970</td>\n",
       "      <td>1.3400</td>\n",
       "      <td>0.19%</td>\n",
       "    </tr>\n",
       "    <tr>\n",
       "      <th>17410</th>\n",
       "      <td>2020-01-31</td>\n",
       "      <td>KR7000020008</td>\n",
       "      <td>동화약품보통주</td>\n",
       "      <td>8030</td>\n",
       "      <td>8110</td>\n",
       "      <td>7880</td>\n",
       "      <td>7910</td>\n",
       "      <td>255775</td>\n",
       "      <td>의약품 제조업</td>\n",
       "      <td>21.67</td>\n",
       "      <td>...</td>\n",
       "      <td>1,194.97</td>\n",
       "      <td>1,188.64</td>\n",
       "      <td>1,198.55</td>\n",
       "      <td>1,183.88</td>\n",
       "      <td>0.62%</td>\n",
       "      <td>1.2967</td>\n",
       "      <td>1.3890</td>\n",
       "      <td>1.4020</td>\n",
       "      <td>1.2940</td>\n",
       "      <td>-7.01%</td>\n",
       "    </tr>\n",
       "  </tbody>\n",
       "</table>\n",
       "<p>20 rows × 22 columns</p>\n",
       "</div>"
      ],
      "text/plain": [
       "            거래일자          종목코드      종목명    시가    고가    저가    종가     거래량  \\\n",
       "0     2020-01-02  KR7000020008  동화약품보통주  8340  8400  8290  8400  111305   \n",
       "916   2020-01-03  KR7000020008  동화약품보통주  8400  8450  8290  8360   96437   \n",
       "1832  2020-01-06  KR7000020008  동화약품보통주  8290  8330  8120  8180   73230   \n",
       "2748  2020-01-07  KR7000020008  동화약품보통주  8200  8280  8090  8160  117904   \n",
       "3664  2020-01-08  KR7000020008  동화약품보통주  8170  8170  7830  7930  263246   \n",
       "4580  2020-01-09  KR7000020008  동화약품보통주  8020  8060  7900  7900   50346   \n",
       "5496  2020-01-10  KR7000020008  동화약품보통주  7970  8140  7880  8100   77059   \n",
       "6412  2020-01-13  KR7000020008  동화약품보통주  8140  8250  8070  8220   91646   \n",
       "7328  2020-01-14  KR7000020008  동화약품보통주  8240  8240  8070  8140  100901   \n",
       "8244  2020-01-15  KR7000020008  동화약품보통주  8160  8170  8000  8090   72255   \n",
       "9160  2020-01-16  KR7000020008  동화약품보통주  8140  8140  8030  8030   80537   \n",
       "10076 2020-01-17  KR7000020008  동화약품보통주  8040  8130  8030  8110   47098   \n",
       "10992 2020-01-20  KR7000020008  동화약품보통주  8140  8340  8100  8240  205611   \n",
       "11908 2020-01-21  KR7000020008  동화약품보통주  8250  8280  8080  8130  161270   \n",
       "12825 2020-01-22  KR7000020008  동화약품보통주  8160  8470  8160  8290  251732   \n",
       "13742 2020-01-23  KR7000020008  동화약품보통주  8390  8410  8290  8350   90264   \n",
       "14659 2020-01-28  KR7000020008  동화약품보통주  8400  8960  8290  8590  915591   \n",
       "15576 2020-01-29  KR7000020008  동화약품보통주  8640  8690  8110  8150  370187   \n",
       "16493 2020-01-30  KR7000020008  동화약품보통주  8180  8260  7990  8000  239447   \n",
       "17410 2020-01-31  KR7000020008  동화약품보통주  8030  8110  7880  7910  255775   \n",
       "\n",
       "          업종구분    PER  ...  EX_RATE 종가  EX_RATE 오픈 EX_RATE 고가 EX_RATE 저가  \\\n",
       "0      의약품 제조업  23.01  ...    1,157.35    1,155.02   1,161.15   1,153.48   \n",
       "916    의약품 제조업   22.9  ...    1,164.95    1,157.94   1,168.83   1,155.70   \n",
       "1832   의약품 제조업  22.41  ...    1,166.94    1,165.89   1,172.99   1,165.78   \n",
       "2748   의약품 제조업  22.36  ...    1,167.30    1,167.54   1,168.82   1,163.11   \n",
       "3664   의약품 제조업  21.73  ...    1,162.25    1,168.30   1,179.67   1,160.50   \n",
       "4580   의약품 제조업  21.64  ...    1,158.72    1,162.49   1,163.55   1,157.41   \n",
       "5496   의약품 제조업  22.19  ...    1,157.97    1,159.73   1,164.16   1,157.55   \n",
       "6412   의약품 제조업  22.52  ...    1,153.95    1,158.92   1,159.57   1,153.13   \n",
       "7328   의약품 제조업   22.3  ...    1,157.20    1,154.95   1,159.66   1,150.30   \n",
       "8244   의약품 제조업  22.16  ...    1,157.91    1,158.20   1,162.80   1,155.85   \n",
       "9160   의약품 제조업     22  ...    1,159.73    1,158.91   1,161.97   1,156.50   \n",
       "10076  의약품 제조업  22.22  ...    1,160.44    1,160.73   1,161.93   1,155.97   \n",
       "10992  의약품 제조업  22.58  ...    1,158.61    1,161.46   1,162.20   1,155.87   \n",
       "11908  의약품 제조업  22.27  ...    1,169.01    1,159.61   1,170.77   1,157.94   \n",
       "12825  의약품 제조업  22.71  ...    1,164.76    1,170.01   1,170.20   1,162.02   \n",
       "13742  의약품 제조업  22.88  ...    1,168.54    1,165.76   1,170.77   1,164.29   \n",
       "14659  의약품 제조업  23.53  ...    1,175.71    1,177.70   1,181.88   1,174.96   \n",
       "15576  의약품 제조업  22.33  ...    1,178.68    1,176.21   1,180.43   1,173.73   \n",
       "16493  의약품 제조업  21.92  ...    1,187.64    1,179.68   1,193.67   1,178.22   \n",
       "17410  의약품 제조업  21.67  ...    1,194.97    1,188.64   1,198.55   1,183.88   \n",
       "\n",
       "      EX_RATE 변동 % BOND 종가 BOND 오픈  BOND 고가  BOND 저가  BOND 변동 %  \n",
       "0            0.29%  1.5950  1.6140   1.6250   1.5650     -0.85%  \n",
       "916          0.66%  1.5457  1.5620   1.5730   1.5240     -3.09%  \n",
       "1832         0.17%  1.5593  1.5270   1.5760   1.5160      2.32%  \n",
       "2748         0.03%  1.5511  1.5620   1.5700   1.5460     -0.53%  \n",
       "3664        -0.43%  1.6071  1.5080   1.6370   1.4680      3.61%  \n",
       "4580        -0.30%  1.5964  1.6040   1.6310   1.5910     -0.67%  \n",
       "5496        -0.06%  1.5857  1.5990   1.6120   1.5750     -0.67%  \n",
       "6412        -0.35%  1.6018  1.6260   1.6260   1.5880      1.02%  \n",
       "7328         0.28%  1.5803  1.6020   1.6120   1.5750     -1.34%  \n",
       "8244         0.06%  1.5643  1.5780   1.5860   1.5590     -1.01%  \n",
       "9160         0.16%  1.5778  1.5670   1.5910   1.5560      0.86%  \n",
       "10076        0.06%  1.5753  1.5720   1.5970   1.5620     -0.16%  \n",
       "10992       -0.16%  1.5699  1.5753   1.5753   1.5699     -0.34%  \n",
       "11908        0.90%  1.5322  1.5730   1.5730   1.5240     -2.40%  \n",
       "12825       -0.36%  1.5296  1.5430   1.5510   1.5240     -0.17%  \n",
       "13742        0.32%  1.5053  1.5270   1.5270   1.4840     -1.59%  \n",
       "14659       -0.08%  1.4594  1.4190   1.4620   1.3810      2.85%  \n",
       "15576        0.25%  1.3918  1.4510   1.4620   1.3890     -4.63%  \n",
       "16493        0.76%  1.3944  1.3950   1.3970   1.3400      0.19%  \n",
       "17410        0.62%  1.2967  1.3890   1.4020   1.2940     -7.01%  \n",
       "\n",
       "[20 rows x 22 columns]"
      ]
     },
     "execution_count": 33,
     "metadata": {},
     "output_type": "execute_result"
    }
   ],
   "source": [
    "total_data[202001].loc[total_data[202001][\"종목코드\"] == \"KR7000020008\"] # 동화약품보통주"
   ]
  },
  {
   "cell_type": "markdown",
   "id": "236393f7-c333-46a7-a519-4ae9b4b8db15",
   "metadata": {
    "tags": []
   },
   "source": [
    "#### - **병합된 전체 데이터 변수**\n",
    "\n",
    "| Variable Name | Description |\n",
    "|:---:|:---:|\n",
    "| **total_data** | `krx_data` + `bond_data` + `exchange_rate_data`|"
   ]
  },
  {
   "cell_type": "markdown",
   "id": "72410596-7bae-4f9d-b85a-afa06b2e4b28",
   "metadata": {
    "tags": []
   },
   "source": [
    "#### - **데이터 형식**\n",
    "\n",
    "```js\n",
    "{\n",
    "    202001 : Pandas,\n",
    "    202002 : Pandas,\n",
    "    202003 : Pandas,\n",
    "    202101 : Pandas,\n",
    "    202102 : Pandas,\n",
    "    202103 : Pandas,\n",
    "    202201 : Pandas,\n",
    "    202202 : Pandas,\n",
    "    202203 : Pandas\n",
    "}\n",
    "```"
   ]
  },
  {
   "cell_type": "markdown",
   "id": "c17675c6-014e-43c4-a4a8-02a569aba5ed",
   "metadata": {
    "tags": []
   },
   "source": [
    "# [ 5 ] Stock Predictions"
   ]
  },
  {
   "cell_type": "code",
   "execution_count": 34,
   "id": "9a5bcebb-57cf-4ce0-b01c-56000f9b192e",
   "metadata": {},
   "outputs": [],
   "source": [
    "# total_data 이 변수를 활용하시면 됩니다."
   ]
  },
  {
   "cell_type": "code",
   "execution_count": 35,
   "id": "af6cd7ae-0c4e-48e0-bfca-c2f40d3ba425",
   "metadata": {},
   "outputs": [
    {
     "data": {
      "text/html": [
       "<div>\n",
       "<style scoped>\n",
       "    .dataframe tbody tr th:only-of-type {\n",
       "        vertical-align: middle;\n",
       "    }\n",
       "\n",
       "    .dataframe tbody tr th {\n",
       "        vertical-align: top;\n",
       "    }\n",
       "\n",
       "    .dataframe thead th {\n",
       "        text-align: right;\n",
       "    }\n",
       "</style>\n",
       "<table border=\"1\" class=\"dataframe\">\n",
       "  <thead>\n",
       "    <tr style=\"text-align: right;\">\n",
       "      <th></th>\n",
       "      <th>거래일자</th>\n",
       "      <th>종목코드</th>\n",
       "      <th>종목명</th>\n",
       "      <th>시가</th>\n",
       "      <th>고가</th>\n",
       "      <th>저가</th>\n",
       "      <th>종가</th>\n",
       "      <th>거래량</th>\n",
       "      <th>업종구분</th>\n",
       "      <th>PER</th>\n",
       "      <th>...</th>\n",
       "      <th>EX_RATE 종가</th>\n",
       "      <th>EX_RATE 오픈</th>\n",
       "      <th>EX_RATE 고가</th>\n",
       "      <th>EX_RATE 저가</th>\n",
       "      <th>EX_RATE 변동 %</th>\n",
       "      <th>BOND 종가</th>\n",
       "      <th>BOND 오픈</th>\n",
       "      <th>BOND 고가</th>\n",
       "      <th>BOND 저가</th>\n",
       "      <th>BOND 변동 %</th>\n",
       "    </tr>\n",
       "  </thead>\n",
       "  <tbody>\n",
       "    <tr>\n",
       "      <th>0</th>\n",
       "      <td>2020-01-02</td>\n",
       "      <td>KR7000020008</td>\n",
       "      <td>동화약품보통주</td>\n",
       "      <td>8340</td>\n",
       "      <td>8400</td>\n",
       "      <td>8290</td>\n",
       "      <td>8400</td>\n",
       "      <td>111305</td>\n",
       "      <td>의약품 제조업</td>\n",
       "      <td>23.01</td>\n",
       "      <td>...</td>\n",
       "      <td>1,157.35</td>\n",
       "      <td>1,155.02</td>\n",
       "      <td>1,161.15</td>\n",
       "      <td>1,153.48</td>\n",
       "      <td>0.29%</td>\n",
       "      <td>1.595</td>\n",
       "      <td>1.614</td>\n",
       "      <td>1.625</td>\n",
       "      <td>1.565</td>\n",
       "      <td>-0.85%</td>\n",
       "    </tr>\n",
       "    <tr>\n",
       "      <th>1</th>\n",
       "      <td>2020-01-02</td>\n",
       "      <td>KR7000040006</td>\n",
       "      <td>KR모터스보통주</td>\n",
       "      <td>288</td>\n",
       "      <td>288</td>\n",
       "      <td>278</td>\n",
       "      <td>282</td>\n",
       "      <td>511750</td>\n",
       "      <td>그외 기타 운송장비 제조업</td>\n",
       "      <td>-</td>\n",
       "      <td>...</td>\n",
       "      <td>1,157.35</td>\n",
       "      <td>1,155.02</td>\n",
       "      <td>1,161.15</td>\n",
       "      <td>1,153.48</td>\n",
       "      <td>0.29%</td>\n",
       "      <td>1.595</td>\n",
       "      <td>1.614</td>\n",
       "      <td>1.625</td>\n",
       "      <td>1.565</td>\n",
       "      <td>-0.85%</td>\n",
       "    </tr>\n",
       "    <tr>\n",
       "      <th>2</th>\n",
       "      <td>2020-01-02</td>\n",
       "      <td>KR7000050005</td>\n",
       "      <td>경방보통주</td>\n",
       "      <td>9280</td>\n",
       "      <td>9600</td>\n",
       "      <td>9270</td>\n",
       "      <td>9580</td>\n",
       "      <td>51436</td>\n",
       "      <td>종합 소매업</td>\n",
       "      <td>12.95</td>\n",
       "      <td>...</td>\n",
       "      <td>1,157.35</td>\n",
       "      <td>1,155.02</td>\n",
       "      <td>1,161.15</td>\n",
       "      <td>1,153.48</td>\n",
       "      <td>0.29%</td>\n",
       "      <td>1.595</td>\n",
       "      <td>1.614</td>\n",
       "      <td>1.625</td>\n",
       "      <td>1.565</td>\n",
       "      <td>-0.85%</td>\n",
       "    </tr>\n",
       "    <tr>\n",
       "      <th>3</th>\n",
       "      <td>2020-01-02</td>\n",
       "      <td>KR7000060004</td>\n",
       "      <td>메리츠화재해상보험보통주</td>\n",
       "      <td>17950</td>\n",
       "      <td>17950</td>\n",
       "      <td>17050</td>\n",
       "      <td>17150</td>\n",
       "      <td>301623</td>\n",
       "      <td>보험업</td>\n",
       "      <td>8.08</td>\n",
       "      <td>...</td>\n",
       "      <td>1,157.35</td>\n",
       "      <td>1,155.02</td>\n",
       "      <td>1,161.15</td>\n",
       "      <td>1,153.48</td>\n",
       "      <td>0.29%</td>\n",
       "      <td>1.595</td>\n",
       "      <td>1.614</td>\n",
       "      <td>1.625</td>\n",
       "      <td>1.565</td>\n",
       "      <td>-0.85%</td>\n",
       "    </tr>\n",
       "    <tr>\n",
       "      <th>4</th>\n",
       "      <td>2020-01-02</td>\n",
       "      <td>KR7000070003</td>\n",
       "      <td>삼양홀딩스보통주</td>\n",
       "      <td>67000</td>\n",
       "      <td>68000</td>\n",
       "      <td>65700</td>\n",
       "      <td>67300</td>\n",
       "      <td>9070</td>\n",
       "      <td>기타 금융업</td>\n",
       "      <td>7.44</td>\n",
       "      <td>...</td>\n",
       "      <td>1,157.35</td>\n",
       "      <td>1,155.02</td>\n",
       "      <td>1,161.15</td>\n",
       "      <td>1,153.48</td>\n",
       "      <td>0.29%</td>\n",
       "      <td>1.595</td>\n",
       "      <td>1.614</td>\n",
       "      <td>1.625</td>\n",
       "      <td>1.565</td>\n",
       "      <td>-0.85%</td>\n",
       "    </tr>\n",
       "  </tbody>\n",
       "</table>\n",
       "<p>5 rows × 22 columns</p>\n",
       "</div>"
      ],
      "text/plain": [
       "        거래일자          종목코드           종목명     시가     고가     저가     종가     거래량  \\\n",
       "0 2020-01-02  KR7000020008       동화약품보통주   8340   8400   8290   8400  111305   \n",
       "1 2020-01-02  KR7000040006      KR모터스보통주    288    288    278    282  511750   \n",
       "2 2020-01-02  KR7000050005         경방보통주   9280   9600   9270   9580   51436   \n",
       "3 2020-01-02  KR7000060004  메리츠화재해상보험보통주  17950  17950  17050  17150  301623   \n",
       "4 2020-01-02  KR7000070003      삼양홀딩스보통주  67000  68000  65700  67300    9070   \n",
       "\n",
       "             업종구분    PER  ...  EX_RATE 종가  EX_RATE 오픈 EX_RATE 고가 EX_RATE 저가  \\\n",
       "0         의약품 제조업  23.01  ...    1,157.35    1,155.02   1,161.15   1,153.48   \n",
       "1  그외 기타 운송장비 제조업      -  ...    1,157.35    1,155.02   1,161.15   1,153.48   \n",
       "2          종합 소매업  12.95  ...    1,157.35    1,155.02   1,161.15   1,153.48   \n",
       "3             보험업   8.08  ...    1,157.35    1,155.02   1,161.15   1,153.48   \n",
       "4          기타 금융업   7.44  ...    1,157.35    1,155.02   1,161.15   1,153.48   \n",
       "\n",
       "  EX_RATE 변동 % BOND 종가 BOND 오픈  BOND 고가  BOND 저가  BOND 변동 %  \n",
       "0        0.29%   1.595   1.614    1.625    1.565     -0.85%  \n",
       "1        0.29%   1.595   1.614    1.625    1.565     -0.85%  \n",
       "2        0.29%   1.595   1.614    1.625    1.565     -0.85%  \n",
       "3        0.29%   1.595   1.614    1.625    1.565     -0.85%  \n",
       "4        0.29%   1.595   1.614    1.625    1.565     -0.85%  \n",
       "\n",
       "[5 rows x 22 columns]"
      ]
     },
     "execution_count": 35,
     "metadata": {},
     "output_type": "execute_result"
    }
   ],
   "source": [
    "total_data[202001].head(5)"
   ]
  },
  {
   "cell_type": "code",
   "execution_count": 36,
   "id": "0ac01ac0-8c4f-4ee0-a411-68e6877827ec",
   "metadata": {},
   "outputs": [
    {
     "data": {
      "text/plain": [
       "Index(['거래일자', '종목코드', '종목명', '시가', '고가', '저가', '종가', '거래량', '업종구분', 'PER',\n",
       "       '상장일', '시가총액', 'EX_RATE 종가', 'EX_RATE 오픈', 'EX_RATE 고가', 'EX_RATE 저가',\n",
       "       'EX_RATE 변동 %', 'BOND 종가', 'BOND 오픈', 'BOND 고가', 'BOND 저가',\n",
       "       'BOND 변동 %'],\n",
       "      dtype='object')"
      ]
     },
     "execution_count": 36,
     "metadata": {},
     "output_type": "execute_result"
    }
   ],
   "source": [
    "total_data[202001].columns"
   ]
  },
  {
   "cell_type": "code",
   "execution_count": null,
   "id": "9bf60bce-ac5e-46f6-a86f-aa1b8196e0f2",
   "metadata": {},
   "outputs": [],
   "source": []
  }
 ],
 "metadata": {
  "kernelspec": {
   "display_name": "Python 3 (ipykernel)",
   "language": "python",
   "name": "python3"
  },
  "language_info": {
   "codemirror_mode": {
    "name": "ipython",
    "version": 3
   },
   "file_extension": ".py",
   "mimetype": "text/x-python",
   "name": "python",
   "nbconvert_exporter": "python",
   "pygments_lexer": "ipython3",
   "version": "3.9.7"
  }
 },
 "nbformat": 4,
 "nbformat_minor": 5
}
