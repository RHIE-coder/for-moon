{
 "cells": [
  {
   "cell_type": "markdown",
   "id": "89a73b96-717d-4e86-8c35-245edd5d4249",
   "metadata": {},
   "source": [
    "<h1 align=\"center\">KRX Big-Data</h1>\n",
    "\n",
    "# [ 1 ] Overview\n",
    "\n",
    "### 1. Sources\n",
    "\n",
    " - `[유가증권]일별 시세정보(주문번호-1300-27)` : 2020년 1분기 주식 정보 -> _CSV 형식_\n",
    " - `[유가증권]일별 시세정보(주문번호-1300-30)` : 2021년 1분기 주식 정보 -> _CSV 형식_\n",
    " - `[유가증권]일별 시세정보(주문번호-1300-33)` : 2022년 1분기 주식 정보 -> _CSV 형식_\n",
    "\n",
    "<br><br><br>\n",
    "\n",
    "### 2. Targets from `.CSV` files (Input)\n",
    "\n",
    "| 항목 명 | 항목 영어명 |\n",
    "|:---:|:---:|\n",
    "|`거래일자`|TRD_DD|\n",
    "|`종목코드`|ISU_CD|\n",
    "|`종목명`|ISU_NM|\n",
    "|`시가`|OPNPRC|\n",
    "|`고가`|HGPRC|\n",
    "|`저가`|LWPRC|\n",
    "|`종가`|CLSPRC|\n",
    "|(누적)`거래량`|ACC_TRDVOL|\n",
    "|`업종구분`(지수업종코드)|IDX_IND_CD|\n",
    "|`PER`(주가수익률)|PER|\n",
    "|`상장일`|LIST_DD|\n",
    "|`시가총액`|MKTCAP|\n",
    "\n",
    "<br><br><br>\n",
    "\n",
    "### 3. Results (Output)\n",
    "\n",
    "| Property | Description |\n",
    "|:---:|:---:|\n",
    "|TRD_DD|`거래일자`|\n",
    "|ISU_CD|`종목코드`|\n",
    "|ISU_NM|`종목명`|\n",
    "|OPNPRC|`시가`|\n",
    "|HGPRC|`고가`|\n",
    "|LWPRC|`저가`|\n",
    "|CLSPRC|`종가`|\n",
    "|ACC_TRDVOL|(누적)`거래량`|\n",
    "|IDX_IND_CD|`업종구분`(지수업종코드)|\n",
    "|PER|`PER`(주가수익률)|\n",
    "|LIST_DD|`상장일`|\n",
    "|MKTCAP|`시가총액`|\n",
    "\n",
    "<br><br><br><hr>"
   ]
  },
  {
   "cell_type": "markdown",
   "id": "7750c953-cd8a-42c5-b05d-8a4d576e1a53",
   "metadata": {},
   "source": [
    "# [ 2 ] Importing Modules"
   ]
  },
  {
   "cell_type": "code",
   "execution_count": 383,
   "id": "ac660437-d6e4-401c-94a0-1cf4eafd5ca2",
   "metadata": {},
   "outputs": [],
   "source": [
    "# Data Handlers\n",
    "import numpy as np\n",
    "import pandas as pd\n",
    "import matplotlib.pyplot as plt\n",
    "from IPython.display import display\n",
    "\n",
    "# Code Libraries\n",
    "import os\n",
    "import copy\n",
    "import abc\n",
    "import datetime"
   ]
  },
  {
   "cell_type": "markdown",
   "id": "5ef2fce0-195f-4d48-b689-a23f7715cd91",
   "metadata": {},
   "source": [
    "<br><br><br>"
   ]
  },
  {
   "cell_type": "markdown",
   "id": "aeb94273-a068-4652-9102-6adf4cd93a94",
   "metadata": {},
   "source": [
    "# [ 3 ] Declarations"
   ]
  },
  {
   "cell_type": "code",
   "execution_count": 405,
   "id": "6fa6e43b-a3b9-4935-94f9-1e9bd308f998",
   "metadata": {},
   "outputs": [],
   "source": [
    "############################################################################################################\n",
    "import copy\n",
    "\n",
    "class Utils:\n",
    "    \"\"\"\n",
    "    데이터 처리를 위해 유용한 기능들을 정의한 클래스입니다.\n",
    "    \"\"\"\n",
    "    @staticmethod\n",
    "    def generate_int_range(start:int, end:int)->iter:\n",
    "        \"\"\"\n",
    "        start와 end 사이의 정수들을 반환하는 Generator입니다.\n",
    "        \"\"\"\n",
    "        if(start >= end):\n",
    "            raise SyntaxError(f\"{start} must be larger than {end}\")\n",
    "        while start <= end:\n",
    "            yield start\n",
    "            start += 1\n",
    "            \n",
    "    \"\"\"\n",
    "    깊은 복사를 한 인스턴스를 반환합니다.\n",
    "    \"\"\"\n",
    "    @staticmethod\n",
    "    def clone(target:object)->object:\n",
    "        return copy.deepcopy(target)\n",
    "    \n",
    "            \n",
    "############################################################################################################\n",
    "\n",
    "import pandas\n",
    "\n",
    "class PandasBasedCSVHandler:\n",
    "    \"\"\"\n",
    "    Pandas 모듈을 기반으로 CSV 파일 데이터를 다루는 클래스입니다.\n",
    "    \"\"\"\n",
    "    def __init__(self, handler:pandas)->None:\n",
    "        self.__handler = handler\n",
    "        self.__data = dict()\n",
    "        \n",
    "    @property\n",
    "    def handler(self)->pandas:\n",
    "        \"\"\"\n",
    "        주입받은 Pandas 객체를 반환합니다.\n",
    "        이미 생성된 handler 인스턴스는 대체될 수 없고 반환만 가능합니다.\n",
    "        \"\"\"\n",
    "        return self.__handler\n",
    "    \n",
    "    def take_data_from_CSV_file(self, *, data_id:object, filepath:str, encoding:str=\"utf-8\")->object:\n",
    "        \"\"\"\n",
    "        불러올 CSV 파일의 경로를 받아 데이터를 가져오고\n",
    "        데이터를 식별할 data_id를 받습니다.\n",
    "        Argument를 반드시 키워드로 명시하여 Parameter에 전달해야 합니다.\n",
    "        \"\"\"\n",
    "        self.__data[data_id] = self.__handler.read_csv(filepath, encoding=encoding)\n",
    "        return self\n",
    "    \n",
    "    def get_CSV_data(self)->dict:\n",
    "        \"\"\"\n",
    "        다음 Dictionary 자료구조를 반환합니다.\n",
    "        key의 타입(자료형)은 정수형으로 의도되었지만 어떤 타입이 들어올지는 자유입니다.\n",
    "        value는 Pandas 타입의 객체입니다.\n",
    "        \"\"\"\n",
    "        return self.__data\n",
    "    \n",
    "    def validate(self, target_properties:list)->object:\n",
    "        \"\"\"\n",
    "        모든 Pandas 데이터가 target_properties에 명시된 속성을 가지고 있는지 확인합니다.\n",
    "        만일, 속성이 매칭되지 않으면 예외가 발생할 것입니다.\n",
    "        모든 과정이 성공하면 True를 반환합니다.\n",
    "        \"\"\"\n",
    "        for data_key, _ in self.__data.items():\n",
    "            self.__data[data_key][target_properties]\n",
    "        return True\n",
    "\n",
    "############################################################################################################\n",
    "\n",
    "class KRXStockData:\n",
    "    \"\"\"\n",
    "    \"\"\"\n",
    "    \n",
    "    @staticmethod\n",
    "    def pick_properties(self, ins_ref:pandas)->pandas:\n",
    "        \"\"\"\n",
    "        \"\"\"\n",
    "        pass\n",
    "    \n",
    "    @staticmethod\n",
    "    def make_non_exists_PER_zero(self, ins_ref:pandas)->pandas:\n",
    "        \"\"\"\n",
    "        \n",
    "        \"\"\"\n",
    "        pass\n",
    "        \n",
    "        \n",
    "\n",
    "############################################################################################################\n",
    "\n",
    "class DataVisualization:\n",
    "    pass\n",
    "\n",
    "############################################################################################################"
   ]
  },
  {
   "cell_type": "markdown",
   "id": "4ba3caf3-0371-4c9c-8895-a88d10c37196",
   "metadata": {},
   "source": [
    "<br><br><br>"
   ]
  },
  {
   "cell_type": "markdown",
   "id": "6a1ea0e7-7fcc-4441-9bf3-275d66e26f6b",
   "metadata": {
    "tags": []
   },
   "source": [
    "# [ 4 ] Stock Predictions"
   ]
  },
  {
   "cell_type": "markdown",
   "id": "a7398b69-82b0-419b-84ca-8e74a711c686",
   "metadata": {
    "tags": []
   },
   "source": [
    "## 01. 데이터 수집 및 전처리 단계"
   ]
  },
  {
   "cell_type": "markdown",
   "id": "80a8b7d0-b83f-4136-a996-1944fdf500fa",
   "metadata": {},
   "source": [
    "### (1) 데이터 경로 및 이름 설정"
   ]
  },
  {
   "cell_type": "code",
   "execution_count": 373,
   "id": "3380416b-e513-4cb0-b864-4e1d10f44f37",
   "metadata": {
    "tags": []
   },
   "outputs": [],
   "source": [
    "# CSV 파일 루트 경로\n",
    "root_dir:str = os.path.join(\"..\", \"data\")\n",
    "\n",
    "# CSV 파일 전체 경로 및 이름 형식\n",
    "filepath_form:str = os.path.join(root_dir, \"{0}\",\"{0}_{1}.csv\")\n",
    "\n",
    "# 각 CSV 파일들을 가져오기 위한 프로파일 list<dict[]>\n",
    "csv_file_profiles : list = [\n",
    "    {\n",
    "        \"name\" : \"[유가증권]일별 시세정보(주문번호-1300-27)\",\n",
    "        \"date_range\" : [202001, 202003]\n",
    "    },\n",
    "    {\n",
    "        \"name\" : \"[유가증권]일별 시세정보(주문번호-1300-30)\",\n",
    "        \"date_range\" : [202101, 202103]\n",
    "    },\n",
    "    {\n",
    "        \"name\" : \"[유가증권]일별 시세정보(주문번호-1300-33)\",\n",
    "        \"date_range\" : [202201, 202203]\n",
    "    }\n",
    "]\n",
    "\n",
    "# \"종목코드\"를 기준으로 각 CSV 데이터들을 식별하는 용도의 자료구조\n",
    "index_properties:list = dict()\n",
    "\n",
    "# 데이터 전처리에 필요한 속성들\n",
    "selected_properties = [\"거래일자\",\"종목코드\",\"종목명\", \"시가\", \"고가\", \"저가\", \"종가\", \"거래량\", \"업종구분\", \"PER\", \"상장일\", \"시가총액\"]"
   ]
  },
  {
   "cell_type": "markdown",
   "id": "d2679b73-7de2-4b6f-a72a-584022b9e45f",
   "metadata": {},
   "source": [
    "### (2) CSV 파일 데이터 불러오기"
   ]
  },
  {
   "cell_type": "code",
   "execution_count": 353,
   "id": "6c536090-da7e-47dd-8b12-2c69d4dfa88b",
   "metadata": {
    "tags": []
   },
   "outputs": [],
   "source": [
    "# class<PandasBasedCSVHandler> 인스턴스 생성\n",
    "csv_handler:PandasBasedCSVHandler = PandasBasedCSVHandler(pd)"
   ]
  },
  {
   "cell_type": "code",
   "execution_count": 354,
   "id": "93933f90-6f23-413b-a26e-0bd5c7cba79c",
   "metadata": {},
   "outputs": [],
   "source": [
    "# CSV 프로파일 기반으로 class<PandasBasedCSVHandler> 인스턴스에 데이터 병합\n",
    "for csv_file_info in csv_file_profiles: # 프로파일 요소 기반 iteration 작업\n",
    "    for date_num in Utils.generate_int_range(csv_file_info[\"date_range\"][0], csv_file_info[\"date_range\"][1]): # Iterator 생성\n",
    "        csv_handler.take_data_from_CSV_file(\n",
    "            data_id = date_num, # Year + Month 형식의 정수\n",
    "            filepath = filepath_form.format(csv_file_info[\"name\"], date_num), # 폴더를 포함한 전체 경로의 파일명\n",
    "            encoding=\"cp949\" # 파일 인코딩 명시\n",
    "        )"
   ]
  },
  {
   "cell_type": "markdown",
   "id": "db89906d-38d5-4c5f-be02-2ad15825e16b",
   "metadata": {
    "tags": []
   },
   "source": [
    "### (3) 데이터 속성 검증하기"
   ]
  },
  {
   "cell_type": "code",
   "execution_count": 355,
   "id": "5ef5cccd-0a2a-46c5-8427-a94a90804dcf",
   "metadata": {},
   "outputs": [
    {
     "data": {
      "text/plain": [
       "True"
      ]
     },
     "execution_count": 355,
     "metadata": {},
     "output_type": "execute_result"
    }
   ],
   "source": [
    "# 검증할 속성 내용들은 [1. 데이터 경로 및 이름 설정]의 selected_properties 변수 참고\n",
    "csv_handler.validate(selected_properties)"
   ]
  },
  {
   "cell_type": "markdown",
   "id": "c8736303-bd80-4c09-8661-d95d19a0a704",
   "metadata": {
    "tags": []
   },
   "source": [
    "#### - 핸들러(Hander)에 저장된 CSV 데이터 형식\n",
    "\n",
    "```js\n",
    "{\n",
    "    202001 : Pandas,\n",
    "    202002 : Pandas,\n",
    "    202003 : Pandas,\n",
    "    202101 : Pandas,\n",
    "    202102 : Pandas,\n",
    "    202103 : Pandas,\n",
    "    202201 : Pandas,\n",
    "    202202 : Pandas,\n",
    "    202203 : Pandas\n",
    "}\n",
    "```"
   ]
  },
  {
   "cell_type": "markdown",
   "id": "bbbb445c-cbcd-460a-9bfd-b1bd8fe219f5",
   "metadata": {},
   "source": [
    "### (4) 데이터 획득 및 전처리"
   ]
  },
  {
   "cell_type": "code",
   "execution_count": 361,
   "id": "26eb45ce-6666-410c-8438-b4aed97c383b",
   "metadata": {},
   "outputs": [],
   "source": [
    "processed_data = csv_handler.get_CSV_data()"
   ]
  },
  {
   "cell_type": "code",
   "execution_count": 398,
   "id": "f1774d3d-d164-41ba-923c-5701fc862b8a",
   "metadata": {},
   "outputs": [],
   "source": [
    "for csv_file_info in csv_file_profiles: # 프로파일 요소 기반 iteration 작업\n",
    "    for date_num in Utils.generate_int_range(csv_file_info[\"date_range\"][0], csv_file_info[\"date_range\"][1]): # Iterator 생성\n",
    "        processed_data[date_num] = processed_data[date_num][selected_properties].replace(\"-\", 0)\n",
    "        processed_data[date_num][\"거래일자\"] = pd.to_datetime(processed_data[date_num][\"거래일자\"].astype('str'))\n",
    "        index_properties[date_num] = processed_data[date_num].drop_duplicates([\"종목코드\", \"종목명\"])[\"종목명\"].to_numpy()"
   ]
  },
  {
   "cell_type": "code",
   "execution_count": 404,
   "id": "31fabe76-a947-49de-82fa-7edc500527e9",
   "metadata": {},
   "outputs": [],
   "source": [
    "# processed_data, index_properties"
   ]
  },
  {
   "cell_type": "code",
   "execution_count": null,
   "id": "628c915d-1095-411a-82ec-d9d05d24ab8b",
   "metadata": {},
   "outputs": [],
   "source": []
  },
  {
   "cell_type": "code",
   "execution_count": null,
   "id": "6caebb08-26d8-40ac-ae22-f5bee94cdf84",
   "metadata": {},
   "outputs": [],
   "source": []
  }
 ],
 "metadata": {
  "kernelspec": {
   "display_name": "Python 3 (ipykernel)",
   "language": "python",
   "name": "python3"
  },
  "language_info": {
   "codemirror_mode": {
    "name": "ipython",
    "version": 3
   },
   "file_extension": ".py",
   "mimetype": "text/x-python",
   "name": "python",
   "nbconvert_exporter": "python",
   "pygments_lexer": "ipython3",
   "version": "3.9.7"
  }
 },
 "nbformat": 4,
 "nbformat_minor": 5
}
